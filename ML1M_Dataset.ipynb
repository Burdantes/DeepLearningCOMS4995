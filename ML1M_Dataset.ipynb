{
 "cells": [
  {
   "cell_type": "markdown",
   "metadata": {
    "id": "M89g0ScSnv6S"
   },
   "source": [
    "# Data Exploration and Visualization"
   ]
  },
  {
   "cell_type": "markdown",
   "metadata": {},
   "source": [
    "Codes implemented in this Colab are inspired and taken from the following blogs:\n",
    "\n",
    "https://medium.com/analytics-vidhya/implementation-of-a-movies-recommender-from-implicit-feedback-6a810de173ac\n",
    "\n",
    "https://medium.com/radon-dev/als-implicit-collaborative-filtering-5ed653ba39fe\n",
    "\n",
    "https://github.com/benfred/implicit\n",
    "\n",
    "https://github.com/MohammedAlawami/Movielens-Dataset/blob/master/movielens_project.ipynb"
   ]
  },
  {
   "cell_type": "code",
   "execution_count": 2,
   "metadata": {
    "id": "sMOsyvBonm6g"
   },
   "outputs": [],
   "source": [
    "import numpy as np\n",
    "import pandas as pd\n",
    "from pandas import Series, DataFrame\n",
    "import matplotlib.pyplot as plt\n",
    "from matplotlib import style\n",
    "import seaborn as sns\n",
    "%matplotlib inline"
   ]
  },
  {
   "cell_type": "code",
   "execution_count": 3,
   "metadata": {
    "id": "UchNXSB-ooAz"
   },
   "outputs": [],
   "source": [
    "path_to_data = \"Data/\""
   ]
  },
  {
   "cell_type": "code",
   "execution_count": 4,
   "metadata": {
    "id": "C8SHmUtKn0Nj"
   },
   "outputs": [],
   "source": [
    "movies_df = pd.read_csv(path_to_data +\n",
    "    'movies.dat',\n",
    "    sep='::',\n",
    "    names=['MovieID','Title','Genres'],\n",
    "    engine='python',\n",
    "    encoding='latin-1',\n",
    "    header=None\n",
    ")\n",
    "users_df = pd.read_csv(path_to_data +\n",
    "    'users.dat',\n",
    "    sep='::',\n",
    "    names=['UserID','Gender','Age', 'Occupation', 'zip-code'],\n",
    "    engine='python',\n",
    "    encoding='latin-1',\n",
    "    header=None\n",
    ")\n",
    "ratings_df = pd.read_csv(path_to_data +\n",
    "    'ratings.dat',\n",
    "    sep='::',\n",
    "    names=['UserID','MovieID','Rating', 'Timestamp'],\n",
    "    parse_dates=['Timestamp'],\n",
    "    engine='python',\n",
    "    encoding='latin-1',\n",
    "    header=None\n",
    ")"
   ]
  },
  {
   "cell_type": "code",
   "execution_count": 5,
   "metadata": {
    "colab": {
     "base_uri": "https://localhost:8080/"
    },
    "id": "Mmr1j1vuo6Pr",
    "outputId": "9cb2fe00-23a2-4fa8-b9e7-44ec70753dd6"
   },
   "outputs": [
    {
     "data": {
      "text/html": [
       "<div>\n",
       "<style scoped>\n",
       "    .dataframe tbody tr th:only-of-type {\n",
       "        vertical-align: middle;\n",
       "    }\n",
       "\n",
       "    .dataframe tbody tr th {\n",
       "        vertical-align: top;\n",
       "    }\n",
       "\n",
       "    .dataframe thead th {\n",
       "        text-align: right;\n",
       "    }\n",
       "</style>\n",
       "<table border=\"1\" class=\"dataframe\">\n",
       "  <thead>\n",
       "    <tr style=\"text-align: right;\">\n",
       "      <th></th>\n",
       "      <th>MovieID</th>\n",
       "      <th>Title</th>\n",
       "      <th>Genres</th>\n",
       "    </tr>\n",
       "  </thead>\n",
       "  <tbody>\n",
       "    <tr>\n",
       "      <th>0</th>\n",
       "      <td>1</td>\n",
       "      <td>Toy Story (1995)</td>\n",
       "      <td>Animation|Children's|Comedy</td>\n",
       "    </tr>\n",
       "    <tr>\n",
       "      <th>1</th>\n",
       "      <td>2</td>\n",
       "      <td>Jumanji (1995)</td>\n",
       "      <td>Adventure|Children's|Fantasy</td>\n",
       "    </tr>\n",
       "    <tr>\n",
       "      <th>2</th>\n",
       "      <td>3</td>\n",
       "      <td>Grumpier Old Men (1995)</td>\n",
       "      <td>Comedy|Romance</td>\n",
       "    </tr>\n",
       "    <tr>\n",
       "      <th>3</th>\n",
       "      <td>4</td>\n",
       "      <td>Waiting to Exhale (1995)</td>\n",
       "      <td>Comedy|Drama</td>\n",
       "    </tr>\n",
       "    <tr>\n",
       "      <th>4</th>\n",
       "      <td>5</td>\n",
       "      <td>Father of the Bride Part II (1995)</td>\n",
       "      <td>Comedy</td>\n",
       "    </tr>\n",
       "  </tbody>\n",
       "</table>\n",
       "</div>"
      ],
      "text/plain": [
       "   MovieID                               Title                        Genres\n",
       "0        1                    Toy Story (1995)   Animation|Children's|Comedy\n",
       "1        2                      Jumanji (1995)  Adventure|Children's|Fantasy\n",
       "2        3             Grumpier Old Men (1995)                Comedy|Romance\n",
       "3        4            Waiting to Exhale (1995)                  Comedy|Drama\n",
       "4        5  Father of the Bride Part II (1995)                        Comedy"
      ]
     },
     "execution_count": 5,
     "metadata": {},
     "output_type": "execute_result"
    }
   ],
   "source": [
    "movies_df.head()"
   ]
  },
  {
   "cell_type": "code",
   "execution_count": 6,
   "metadata": {
    "colab": {
     "base_uri": "https://localhost:8080/"
    },
    "id": "OedPoLYGpcQ6",
    "outputId": "f4e3a4ed-830f-4840-ea38-64a6fb2b868c"
   },
   "outputs": [
    {
     "data": {
      "text/html": [
       "<div>\n",
       "<style scoped>\n",
       "    .dataframe tbody tr th:only-of-type {\n",
       "        vertical-align: middle;\n",
       "    }\n",
       "\n",
       "    .dataframe tbody tr th {\n",
       "        vertical-align: top;\n",
       "    }\n",
       "\n",
       "    .dataframe thead th {\n",
       "        text-align: right;\n",
       "    }\n",
       "</style>\n",
       "<table border=\"1\" class=\"dataframe\">\n",
       "  <thead>\n",
       "    <tr style=\"text-align: right;\">\n",
       "      <th></th>\n",
       "      <th>UserID</th>\n",
       "      <th>Gender</th>\n",
       "      <th>Age</th>\n",
       "      <th>Occupation</th>\n",
       "      <th>zip-code</th>\n",
       "    </tr>\n",
       "  </thead>\n",
       "  <tbody>\n",
       "    <tr>\n",
       "      <th>0</th>\n",
       "      <td>1</td>\n",
       "      <td>F</td>\n",
       "      <td>1</td>\n",
       "      <td>10</td>\n",
       "      <td>48067</td>\n",
       "    </tr>\n",
       "    <tr>\n",
       "      <th>1</th>\n",
       "      <td>2</td>\n",
       "      <td>M</td>\n",
       "      <td>56</td>\n",
       "      <td>16</td>\n",
       "      <td>70072</td>\n",
       "    </tr>\n",
       "    <tr>\n",
       "      <th>2</th>\n",
       "      <td>3</td>\n",
       "      <td>M</td>\n",
       "      <td>25</td>\n",
       "      <td>15</td>\n",
       "      <td>55117</td>\n",
       "    </tr>\n",
       "    <tr>\n",
       "      <th>3</th>\n",
       "      <td>4</td>\n",
       "      <td>M</td>\n",
       "      <td>45</td>\n",
       "      <td>7</td>\n",
       "      <td>02460</td>\n",
       "    </tr>\n",
       "    <tr>\n",
       "      <th>4</th>\n",
       "      <td>5</td>\n",
       "      <td>M</td>\n",
       "      <td>25</td>\n",
       "      <td>20</td>\n",
       "      <td>55455</td>\n",
       "    </tr>\n",
       "  </tbody>\n",
       "</table>\n",
       "</div>"
      ],
      "text/plain": [
       "   UserID Gender  Age  Occupation zip-code\n",
       "0       1      F    1          10    48067\n",
       "1       2      M   56          16    70072\n",
       "2       3      M   25          15    55117\n",
       "3       4      M   45           7    02460\n",
       "4       5      M   25          20    55455"
      ]
     },
     "execution_count": 6,
     "metadata": {},
     "output_type": "execute_result"
    }
   ],
   "source": [
    "users_df.head()"
   ]
  },
  {
   "cell_type": "code",
   "execution_count": 7,
   "metadata": {
    "colab": {
     "base_uri": "https://localhost:8080/"
    },
    "id": "rDMyQGVavJ3A",
    "outputId": "19732aaf-32de-4f41-b85f-e9061e6e26e9"
   },
   "outputs": [
    {
     "data": {
      "text/html": [
       "<div>\n",
       "<style scoped>\n",
       "    .dataframe tbody tr th:only-of-type {\n",
       "        vertical-align: middle;\n",
       "    }\n",
       "\n",
       "    .dataframe tbody tr th {\n",
       "        vertical-align: top;\n",
       "    }\n",
       "\n",
       "    .dataframe thead th {\n",
       "        text-align: right;\n",
       "    }\n",
       "</style>\n",
       "<table border=\"1\" class=\"dataframe\">\n",
       "  <thead>\n",
       "    <tr style=\"text-align: right;\">\n",
       "      <th></th>\n",
       "      <th>UserID</th>\n",
       "      <th>MovieID</th>\n",
       "      <th>Rating</th>\n",
       "      <th>Timestamp</th>\n",
       "    </tr>\n",
       "  </thead>\n",
       "  <tbody>\n",
       "    <tr>\n",
       "      <th>0</th>\n",
       "      <td>1</td>\n",
       "      <td>1193</td>\n",
       "      <td>5</td>\n",
       "      <td>978300760</td>\n",
       "    </tr>\n",
       "    <tr>\n",
       "      <th>1</th>\n",
       "      <td>1</td>\n",
       "      <td>661</td>\n",
       "      <td>3</td>\n",
       "      <td>978302109</td>\n",
       "    </tr>\n",
       "    <tr>\n",
       "      <th>2</th>\n",
       "      <td>1</td>\n",
       "      <td>914</td>\n",
       "      <td>3</td>\n",
       "      <td>978301968</td>\n",
       "    </tr>\n",
       "    <tr>\n",
       "      <th>3</th>\n",
       "      <td>1</td>\n",
       "      <td>3408</td>\n",
       "      <td>4</td>\n",
       "      <td>978300275</td>\n",
       "    </tr>\n",
       "    <tr>\n",
       "      <th>4</th>\n",
       "      <td>1</td>\n",
       "      <td>2355</td>\n",
       "      <td>5</td>\n",
       "      <td>978824291</td>\n",
       "    </tr>\n",
       "  </tbody>\n",
       "</table>\n",
       "</div>"
      ],
      "text/plain": [
       "   UserID  MovieID  Rating  Timestamp\n",
       "0       1     1193       5  978300760\n",
       "1       1      661       3  978302109\n",
       "2       1      914       3  978301968\n",
       "3       1     3408       4  978300275\n",
       "4       1     2355       5  978824291"
      ]
     },
     "execution_count": 7,
     "metadata": {},
     "output_type": "execute_result"
    }
   ],
   "source": [
    "ratings_df.head()"
   ]
  },
  {
   "cell_type": "code",
   "execution_count": 8,
   "metadata": {
    "colab": {
     "base_uri": "https://localhost:8080/"
    },
    "id": "sxGk9t_2vfOd",
    "outputId": "4ef84653-0d48-4519-b41d-e7a5229237a2"
   },
   "outputs": [
    {
     "name": "stdout",
     "output_type": "stream",
     "text": [
      "<class 'pandas.core.frame.DataFrame'>\n",
      "Int64Index: 1000209 entries, 0 to 1000208\n",
      "Data columns (total 6 columns):\n",
      " #   Column     Non-Null Count    Dtype \n",
      "---  ------     --------------    ----- \n",
      " 0   MovieID    1000209 non-null  int64 \n",
      " 1   Title      1000209 non-null  object\n",
      " 2   Genres     1000209 non-null  object\n",
      " 3   UserID     1000209 non-null  int64 \n",
      " 4   Rating     1000209 non-null  int64 \n",
      " 5   Timestamp  1000209 non-null  int64 \n",
      "dtypes: int64(4), object(2)\n",
      "memory usage: 53.4+ MB\n"
     ]
    }
   ],
   "source": [
    "movie_ratings_df = pd.merge(movies_df, ratings_df, on='MovieID')\n",
    "movie_ratings_df.info()"
   ]
  },
  {
   "cell_type": "code",
   "execution_count": 9,
   "metadata": {
    "colab": {
     "base_uri": "https://localhost:8080/"
    },
    "id": "1lsJ9AJ8yl0f",
    "outputId": "f0c8d442-6e21-4356-837c-0cd8cbc57bdf"
   },
   "outputs": [
    {
     "data": {
      "text/html": [
       "<div>\n",
       "<style scoped>\n",
       "    .dataframe tbody tr th:only-of-type {\n",
       "        vertical-align: middle;\n",
       "    }\n",
       "\n",
       "    .dataframe tbody tr th {\n",
       "        vertical-align: top;\n",
       "    }\n",
       "\n",
       "    .dataframe thead th {\n",
       "        text-align: right;\n",
       "    }\n",
       "</style>\n",
       "<table border=\"1\" class=\"dataframe\">\n",
       "  <thead>\n",
       "    <tr style=\"text-align: right;\">\n",
       "      <th></th>\n",
       "      <th>MovieID</th>\n",
       "      <th>Title</th>\n",
       "      <th>Genres</th>\n",
       "      <th>UserID</th>\n",
       "      <th>Rating</th>\n",
       "      <th>Timestamp</th>\n",
       "    </tr>\n",
       "  </thead>\n",
       "  <tbody>\n",
       "    <tr>\n",
       "      <th>0</th>\n",
       "      <td>1</td>\n",
       "      <td>Toy Story (1995)</td>\n",
       "      <td>Animation|Children's|Comedy</td>\n",
       "      <td>1</td>\n",
       "      <td>5</td>\n",
       "      <td>978824268</td>\n",
       "    </tr>\n",
       "    <tr>\n",
       "      <th>1</th>\n",
       "      <td>1</td>\n",
       "      <td>Toy Story (1995)</td>\n",
       "      <td>Animation|Children's|Comedy</td>\n",
       "      <td>6</td>\n",
       "      <td>4</td>\n",
       "      <td>978237008</td>\n",
       "    </tr>\n",
       "    <tr>\n",
       "      <th>2</th>\n",
       "      <td>1</td>\n",
       "      <td>Toy Story (1995)</td>\n",
       "      <td>Animation|Children's|Comedy</td>\n",
       "      <td>8</td>\n",
       "      <td>4</td>\n",
       "      <td>978233496</td>\n",
       "    </tr>\n",
       "    <tr>\n",
       "      <th>3</th>\n",
       "      <td>1</td>\n",
       "      <td>Toy Story (1995)</td>\n",
       "      <td>Animation|Children's|Comedy</td>\n",
       "      <td>9</td>\n",
       "      <td>5</td>\n",
       "      <td>978225952</td>\n",
       "    </tr>\n",
       "    <tr>\n",
       "      <th>4</th>\n",
       "      <td>1</td>\n",
       "      <td>Toy Story (1995)</td>\n",
       "      <td>Animation|Children's|Comedy</td>\n",
       "      <td>10</td>\n",
       "      <td>5</td>\n",
       "      <td>978226474</td>\n",
       "    </tr>\n",
       "  </tbody>\n",
       "</table>\n",
       "</div>"
      ],
      "text/plain": [
       "   MovieID             Title                       Genres  UserID  Rating  \\\n",
       "0        1  Toy Story (1995)  Animation|Children's|Comedy       1       5   \n",
       "1        1  Toy Story (1995)  Animation|Children's|Comedy       6       4   \n",
       "2        1  Toy Story (1995)  Animation|Children's|Comedy       8       4   \n",
       "3        1  Toy Story (1995)  Animation|Children's|Comedy       9       5   \n",
       "4        1  Toy Story (1995)  Animation|Children's|Comedy      10       5   \n",
       "\n",
       "   Timestamp  \n",
       "0  978824268  \n",
       "1  978237008  \n",
       "2  978233496  \n",
       "3  978225952  \n",
       "4  978226474  "
      ]
     },
     "execution_count": 9,
     "metadata": {},
     "output_type": "execute_result"
    }
   ],
   "source": [
    "movie_ratings_df.head()"
   ]
  },
  {
   "cell_type": "code",
   "execution_count": 10,
   "metadata": {
    "colab": {
     "base_uri": "https://localhost:8080/"
    },
    "id": "efQO10bByvxr",
    "outputId": "3ba61d92-2f53-4311-8ba0-87bd55b0f816"
   },
   "outputs": [
    {
     "name": "stdout",
     "output_type": "stream",
     "text": [
      "<class 'pandas.core.frame.DataFrame'>\n",
      "Int64Index: 1000209 entries, 0 to 1000208\n",
      "Data columns (total 10 columns):\n",
      " #   Column      Non-Null Count    Dtype \n",
      "---  ------      --------------    ----- \n",
      " 0   MovieID     1000209 non-null  int64 \n",
      " 1   Title       1000209 non-null  object\n",
      " 2   Genres      1000209 non-null  object\n",
      " 3   UserID      1000209 non-null  int64 \n",
      " 4   Rating      1000209 non-null  int64 \n",
      " 5   Timestamp   1000209 non-null  int64 \n",
      " 6   Gender      1000209 non-null  object\n",
      " 7   Age         1000209 non-null  int64 \n",
      " 8   Occupation  1000209 non-null  int64 \n",
      " 9   zip-code    1000209 non-null  object\n",
      "dtypes: int64(6), object(4)\n",
      "memory usage: 83.9+ MB\n"
     ]
    }
   ],
   "source": [
    "movie_ratings_users_df = pd.merge(\n",
    "    movie_ratings_df,\n",
    "    users_df,\n",
    "    on='UserID'\n",
    ")\n",
    "movie_ratings_users_df.info()"
   ]
  },
  {
   "cell_type": "code",
   "execution_count": 11,
   "metadata": {
    "colab": {
     "base_uri": "https://localhost:8080/"
    },
    "id": "U2rG3NS2yyIr",
    "outputId": "c52cffd3-7093-42eb-bc02-4c621e72dcc4"
   },
   "outputs": [
    {
     "data": {
      "text/html": [
       "<div>\n",
       "<style scoped>\n",
       "    .dataframe tbody tr th:only-of-type {\n",
       "        vertical-align: middle;\n",
       "    }\n",
       "\n",
       "    .dataframe tbody tr th {\n",
       "        vertical-align: top;\n",
       "    }\n",
       "\n",
       "    .dataframe thead th {\n",
       "        text-align: right;\n",
       "    }\n",
       "</style>\n",
       "<table border=\"1\" class=\"dataframe\">\n",
       "  <thead>\n",
       "    <tr style=\"text-align: right;\">\n",
       "      <th></th>\n",
       "      <th>MovieID</th>\n",
       "      <th>Title</th>\n",
       "      <th>Genres</th>\n",
       "      <th>UserID</th>\n",
       "      <th>Rating</th>\n",
       "      <th>Timestamp</th>\n",
       "      <th>Gender</th>\n",
       "      <th>Age</th>\n",
       "      <th>Occupation</th>\n",
       "      <th>zip-code</th>\n",
       "    </tr>\n",
       "  </thead>\n",
       "  <tbody>\n",
       "    <tr>\n",
       "      <th>0</th>\n",
       "      <td>1</td>\n",
       "      <td>Toy Story (1995)</td>\n",
       "      <td>Animation|Children's|Comedy</td>\n",
       "      <td>1</td>\n",
       "      <td>5</td>\n",
       "      <td>978824268</td>\n",
       "      <td>F</td>\n",
       "      <td>1</td>\n",
       "      <td>10</td>\n",
       "      <td>48067</td>\n",
       "    </tr>\n",
       "    <tr>\n",
       "      <th>1</th>\n",
       "      <td>48</td>\n",
       "      <td>Pocahontas (1995)</td>\n",
       "      <td>Animation|Children's|Musical|Romance</td>\n",
       "      <td>1</td>\n",
       "      <td>5</td>\n",
       "      <td>978824351</td>\n",
       "      <td>F</td>\n",
       "      <td>1</td>\n",
       "      <td>10</td>\n",
       "      <td>48067</td>\n",
       "    </tr>\n",
       "    <tr>\n",
       "      <th>2</th>\n",
       "      <td>150</td>\n",
       "      <td>Apollo 13 (1995)</td>\n",
       "      <td>Drama</td>\n",
       "      <td>1</td>\n",
       "      <td>5</td>\n",
       "      <td>978301777</td>\n",
       "      <td>F</td>\n",
       "      <td>1</td>\n",
       "      <td>10</td>\n",
       "      <td>48067</td>\n",
       "    </tr>\n",
       "    <tr>\n",
       "      <th>3</th>\n",
       "      <td>260</td>\n",
       "      <td>Star Wars: Episode IV - A New Hope (1977)</td>\n",
       "      <td>Action|Adventure|Fantasy|Sci-Fi</td>\n",
       "      <td>1</td>\n",
       "      <td>4</td>\n",
       "      <td>978300760</td>\n",
       "      <td>F</td>\n",
       "      <td>1</td>\n",
       "      <td>10</td>\n",
       "      <td>48067</td>\n",
       "    </tr>\n",
       "    <tr>\n",
       "      <th>4</th>\n",
       "      <td>527</td>\n",
       "      <td>Schindler's List (1993)</td>\n",
       "      <td>Drama|War</td>\n",
       "      <td>1</td>\n",
       "      <td>5</td>\n",
       "      <td>978824195</td>\n",
       "      <td>F</td>\n",
       "      <td>1</td>\n",
       "      <td>10</td>\n",
       "      <td>48067</td>\n",
       "    </tr>\n",
       "  </tbody>\n",
       "</table>\n",
       "</div>"
      ],
      "text/plain": [
       "   MovieID                                      Title  \\\n",
       "0        1                           Toy Story (1995)   \n",
       "1       48                          Pocahontas (1995)   \n",
       "2      150                           Apollo 13 (1995)   \n",
       "3      260  Star Wars: Episode IV - A New Hope (1977)   \n",
       "4      527                    Schindler's List (1993)   \n",
       "\n",
       "                                 Genres  UserID  Rating  Timestamp Gender  \\\n",
       "0           Animation|Children's|Comedy       1       5  978824268      F   \n",
       "1  Animation|Children's|Musical|Romance       1       5  978824351      F   \n",
       "2                                 Drama       1       5  978301777      F   \n",
       "3       Action|Adventure|Fantasy|Sci-Fi       1       4  978300760      F   \n",
       "4                             Drama|War       1       5  978824195      F   \n",
       "\n",
       "   Age  Occupation zip-code  \n",
       "0    1          10    48067  \n",
       "1    1          10    48067  \n",
       "2    1          10    48067  \n",
       "3    1          10    48067  \n",
       "4    1          10    48067  "
      ]
     },
     "execution_count": 11,
     "metadata": {},
     "output_type": "execute_result"
    }
   ],
   "source": [
    "movie_ratings_users_df.head()"
   ]
  },
  {
   "cell_type": "code",
   "execution_count": 12,
   "metadata": {
    "colab": {
     "base_uri": "https://localhost:8080/"
    },
    "id": "cuY2o-bVvWP4",
    "outputId": "68d33fae-d745-4fb9-d437-3ca2e80f8299"
   },
   "outputs": [
    {
     "data": {
      "text/html": [
       "<div>\n",
       "<style scoped>\n",
       "    .dataframe tbody tr th:only-of-type {\n",
       "        vertical-align: middle;\n",
       "    }\n",
       "\n",
       "    .dataframe tbody tr th {\n",
       "        vertical-align: top;\n",
       "    }\n",
       "\n",
       "    .dataframe thead th {\n",
       "        text-align: right;\n",
       "    }\n",
       "</style>\n",
       "<table border=\"1\" class=\"dataframe\">\n",
       "  <thead>\n",
       "    <tr style=\"text-align: right;\">\n",
       "      <th></th>\n",
       "      <th>MovieID</th>\n",
       "      <th>Title</th>\n",
       "      <th>Genres</th>\n",
       "      <th>UserID</th>\n",
       "      <th>Rating</th>\n",
       "      <th>Gender</th>\n",
       "      <th>Age</th>\n",
       "      <th>Occupation</th>\n",
       "    </tr>\n",
       "  </thead>\n",
       "  <tbody>\n",
       "    <tr>\n",
       "      <th>0</th>\n",
       "      <td>1</td>\n",
       "      <td>Toy Story (1995)</td>\n",
       "      <td>Animation|Children's|Comedy</td>\n",
       "      <td>1</td>\n",
       "      <td>5</td>\n",
       "      <td>F</td>\n",
       "      <td>1</td>\n",
       "      <td>10</td>\n",
       "    </tr>\n",
       "    <tr>\n",
       "      <th>1</th>\n",
       "      <td>48</td>\n",
       "      <td>Pocahontas (1995)</td>\n",
       "      <td>Animation|Children's|Musical|Romance</td>\n",
       "      <td>1</td>\n",
       "      <td>5</td>\n",
       "      <td>F</td>\n",
       "      <td>1</td>\n",
       "      <td>10</td>\n",
       "    </tr>\n",
       "    <tr>\n",
       "      <th>2</th>\n",
       "      <td>150</td>\n",
       "      <td>Apollo 13 (1995)</td>\n",
       "      <td>Drama</td>\n",
       "      <td>1</td>\n",
       "      <td>5</td>\n",
       "      <td>F</td>\n",
       "      <td>1</td>\n",
       "      <td>10</td>\n",
       "    </tr>\n",
       "    <tr>\n",
       "      <th>3</th>\n",
       "      <td>260</td>\n",
       "      <td>Star Wars: Episode IV - A New Hope (1977)</td>\n",
       "      <td>Action|Adventure|Fantasy|Sci-Fi</td>\n",
       "      <td>1</td>\n",
       "      <td>4</td>\n",
       "      <td>F</td>\n",
       "      <td>1</td>\n",
       "      <td>10</td>\n",
       "    </tr>\n",
       "    <tr>\n",
       "      <th>4</th>\n",
       "      <td>527</td>\n",
       "      <td>Schindler's List (1993)</td>\n",
       "      <td>Drama|War</td>\n",
       "      <td>1</td>\n",
       "      <td>5</td>\n",
       "      <td>F</td>\n",
       "      <td>1</td>\n",
       "      <td>10</td>\n",
       "    </tr>\n",
       "  </tbody>\n",
       "</table>\n",
       "</div>"
      ],
      "text/plain": [
       "   MovieID                                      Title  \\\n",
       "0        1                           Toy Story (1995)   \n",
       "1       48                          Pocahontas (1995)   \n",
       "2      150                           Apollo 13 (1995)   \n",
       "3      260  Star Wars: Episode IV - A New Hope (1977)   \n",
       "4      527                    Schindler's List (1993)   \n",
       "\n",
       "                                 Genres  UserID  Rating Gender  Age  \\\n",
       "0           Animation|Children's|Comedy       1       5      F    1   \n",
       "1  Animation|Children's|Musical|Romance       1       5      F    1   \n",
       "2                                 Drama       1       5      F    1   \n",
       "3       Action|Adventure|Fantasy|Sci-Fi       1       4      F    1   \n",
       "4                             Drama|War       1       5      F    1   \n",
       "\n",
       "   Occupation  \n",
       "0          10  \n",
       "1          10  \n",
       "2          10  \n",
       "3          10  \n",
       "4          10  "
      ]
     },
     "execution_count": 12,
     "metadata": {},
     "output_type": "execute_result"
    }
   ],
   "source": [
    "Master_Data = movie_ratings_users_df.drop(\n",
    "    ['zip-code', 'Timestamp'],\n",
    "    axis=1\n",
    ")\n",
    "Master_Data.head()"
   ]
  },
  {
   "cell_type": "code",
   "execution_count": 13,
   "metadata": {
    "colab": {
     "base_uri": "https://localhost:8080/"
    },
    "id": "R3ewjOtg0p3Z",
    "outputId": "99752c34-3f2b-4941-ecfe-1d242575025b"
   },
   "outputs": [
    {
     "data": {
      "text/html": [
       "<div>\n",
       "<style scoped>\n",
       "    .dataframe tbody tr th:only-of-type {\n",
       "        vertical-align: middle;\n",
       "    }\n",
       "\n",
       "    .dataframe tbody tr th {\n",
       "        vertical-align: top;\n",
       "    }\n",
       "\n",
       "    .dataframe thead th {\n",
       "        text-align: right;\n",
       "    }\n",
       "</style>\n",
       "<table border=\"1\" class=\"dataframe\">\n",
       "  <thead>\n",
       "    <tr style=\"text-align: right;\">\n",
       "      <th></th>\n",
       "      <th>MovieID</th>\n",
       "      <th>Title</th>\n",
       "      <th>Genres</th>\n",
       "      <th>UserID</th>\n",
       "      <th>Rating</th>\n",
       "      <th>Gender</th>\n",
       "      <th>Age</th>\n",
       "      <th>Occupation</th>\n",
       "    </tr>\n",
       "  </thead>\n",
       "  <tbody>\n",
       "    <tr>\n",
       "      <th>count</th>\n",
       "      <td>1.000209e+06</td>\n",
       "      <td>1000209</td>\n",
       "      <td>1000209</td>\n",
       "      <td>1.000209e+06</td>\n",
       "      <td>1.000209e+06</td>\n",
       "      <td>1000209</td>\n",
       "      <td>1.000209e+06</td>\n",
       "      <td>1.000209e+06</td>\n",
       "    </tr>\n",
       "    <tr>\n",
       "      <th>unique</th>\n",
       "      <td>NaN</td>\n",
       "      <td>3706</td>\n",
       "      <td>301</td>\n",
       "      <td>NaN</td>\n",
       "      <td>NaN</td>\n",
       "      <td>2</td>\n",
       "      <td>NaN</td>\n",
       "      <td>NaN</td>\n",
       "    </tr>\n",
       "    <tr>\n",
       "      <th>top</th>\n",
       "      <td>NaN</td>\n",
       "      <td>American Beauty (1999)</td>\n",
       "      <td>Comedy</td>\n",
       "      <td>NaN</td>\n",
       "      <td>NaN</td>\n",
       "      <td>M</td>\n",
       "      <td>NaN</td>\n",
       "      <td>NaN</td>\n",
       "    </tr>\n",
       "    <tr>\n",
       "      <th>freq</th>\n",
       "      <td>NaN</td>\n",
       "      <td>3428</td>\n",
       "      <td>116883</td>\n",
       "      <td>NaN</td>\n",
       "      <td>NaN</td>\n",
       "      <td>753769</td>\n",
       "      <td>NaN</td>\n",
       "      <td>NaN</td>\n",
       "    </tr>\n",
       "    <tr>\n",
       "      <th>mean</th>\n",
       "      <td>1.865540e+03</td>\n",
       "      <td>NaN</td>\n",
       "      <td>NaN</td>\n",
       "      <td>3.024512e+03</td>\n",
       "      <td>3.581564e+00</td>\n",
       "      <td>NaN</td>\n",
       "      <td>2.973831e+01</td>\n",
       "      <td>8.036138e+00</td>\n",
       "    </tr>\n",
       "    <tr>\n",
       "      <th>std</th>\n",
       "      <td>1.096041e+03</td>\n",
       "      <td>NaN</td>\n",
       "      <td>NaN</td>\n",
       "      <td>1.728413e+03</td>\n",
       "      <td>1.117102e+00</td>\n",
       "      <td>NaN</td>\n",
       "      <td>1.175198e+01</td>\n",
       "      <td>6.531336e+00</td>\n",
       "    </tr>\n",
       "    <tr>\n",
       "      <th>min</th>\n",
       "      <td>1.000000e+00</td>\n",
       "      <td>NaN</td>\n",
       "      <td>NaN</td>\n",
       "      <td>1.000000e+00</td>\n",
       "      <td>1.000000e+00</td>\n",
       "      <td>NaN</td>\n",
       "      <td>1.000000e+00</td>\n",
       "      <td>0.000000e+00</td>\n",
       "    </tr>\n",
       "    <tr>\n",
       "      <th>25%</th>\n",
       "      <td>1.030000e+03</td>\n",
       "      <td>NaN</td>\n",
       "      <td>NaN</td>\n",
       "      <td>1.506000e+03</td>\n",
       "      <td>3.000000e+00</td>\n",
       "      <td>NaN</td>\n",
       "      <td>2.500000e+01</td>\n",
       "      <td>2.000000e+00</td>\n",
       "    </tr>\n",
       "    <tr>\n",
       "      <th>50%</th>\n",
       "      <td>1.835000e+03</td>\n",
       "      <td>NaN</td>\n",
       "      <td>NaN</td>\n",
       "      <td>3.070000e+03</td>\n",
       "      <td>4.000000e+00</td>\n",
       "      <td>NaN</td>\n",
       "      <td>2.500000e+01</td>\n",
       "      <td>7.000000e+00</td>\n",
       "    </tr>\n",
       "    <tr>\n",
       "      <th>75%</th>\n",
       "      <td>2.770000e+03</td>\n",
       "      <td>NaN</td>\n",
       "      <td>NaN</td>\n",
       "      <td>4.476000e+03</td>\n",
       "      <td>4.000000e+00</td>\n",
       "      <td>NaN</td>\n",
       "      <td>3.500000e+01</td>\n",
       "      <td>1.400000e+01</td>\n",
       "    </tr>\n",
       "    <tr>\n",
       "      <th>max</th>\n",
       "      <td>3.952000e+03</td>\n",
       "      <td>NaN</td>\n",
       "      <td>NaN</td>\n",
       "      <td>6.040000e+03</td>\n",
       "      <td>5.000000e+00</td>\n",
       "      <td>NaN</td>\n",
       "      <td>5.600000e+01</td>\n",
       "      <td>2.000000e+01</td>\n",
       "    </tr>\n",
       "  </tbody>\n",
       "</table>\n",
       "</div>"
      ],
      "text/plain": [
       "             MovieID                   Title   Genres        UserID  \\\n",
       "count   1.000209e+06                 1000209  1000209  1.000209e+06   \n",
       "unique           NaN                    3706      301           NaN   \n",
       "top              NaN  American Beauty (1999)   Comedy           NaN   \n",
       "freq             NaN                    3428   116883           NaN   \n",
       "mean    1.865540e+03                     NaN      NaN  3.024512e+03   \n",
       "std     1.096041e+03                     NaN      NaN  1.728413e+03   \n",
       "min     1.000000e+00                     NaN      NaN  1.000000e+00   \n",
       "25%     1.030000e+03                     NaN      NaN  1.506000e+03   \n",
       "50%     1.835000e+03                     NaN      NaN  3.070000e+03   \n",
       "75%     2.770000e+03                     NaN      NaN  4.476000e+03   \n",
       "max     3.952000e+03                     NaN      NaN  6.040000e+03   \n",
       "\n",
       "              Rating   Gender           Age    Occupation  \n",
       "count   1.000209e+06  1000209  1.000209e+06  1.000209e+06  \n",
       "unique           NaN        2           NaN           NaN  \n",
       "top              NaN        M           NaN           NaN  \n",
       "freq             NaN   753769           NaN           NaN  \n",
       "mean    3.581564e+00      NaN  2.973831e+01  8.036138e+00  \n",
       "std     1.117102e+00      NaN  1.175198e+01  6.531336e+00  \n",
       "min     1.000000e+00      NaN  1.000000e+00  0.000000e+00  \n",
       "25%     3.000000e+00      NaN  2.500000e+01  2.000000e+00  \n",
       "50%     4.000000e+00      NaN  2.500000e+01  7.000000e+00  \n",
       "75%     4.000000e+00      NaN  3.500000e+01  1.400000e+01  \n",
       "max     5.000000e+00      NaN  5.600000e+01  2.000000e+01  "
      ]
     },
     "execution_count": 13,
     "metadata": {},
     "output_type": "execute_result"
    }
   ],
   "source": [
    "Master_Data.describe(include='all')"
   ]
  },
  {
   "cell_type": "code",
   "execution_count": 14,
   "metadata": {
    "colab": {
     "base_uri": "https://localhost:8080/"
    },
    "id": "IgAxCsKo0szn",
    "outputId": "99cd5f11-095f-446a-e373-98fd834cd7ad"
   },
   "outputs": [
    {
     "name": "stdout",
     "output_type": "stream",
     "text": [
      "<class 'pandas.core.frame.DataFrame'>\n",
      "Int64Index: 1000209 entries, 0 to 1000208\n",
      "Data columns (total 8 columns):\n",
      " #   Column      Non-Null Count    Dtype \n",
      "---  ------      --------------    ----- \n",
      " 0   MovieID     1000209 non-null  int64 \n",
      " 1   Title       1000209 non-null  object\n",
      " 2   Genres      1000209 non-null  object\n",
      " 3   UserID      1000209 non-null  int64 \n",
      " 4   Rating      1000209 non-null  int64 \n",
      " 5   Gender      1000209 non-null  object\n",
      " 6   Age         1000209 non-null  int64 \n",
      " 7   Occupation  1000209 non-null  int64 \n",
      "dtypes: int64(5), object(3)\n",
      "memory usage: 68.7+ MB\n"
     ]
    }
   ],
   "source": [
    "Master_Data.info()"
   ]
  },
  {
   "cell_type": "code",
   "execution_count": 15,
   "metadata": {
    "colab": {
     "base_uri": "https://localhost:8080/"
    },
    "id": "sU8eSgXpXZFl",
    "outputId": "0d85fff1-9a5f-4e11-f51f-f941f982dd00"
   },
   "outputs": [
    {
     "data": {
      "text/plain": [
       "<AxesSubplot:xlabel='Age', ylabel='Count'>"
      ]
     },
     "execution_count": 15,
     "metadata": {},
     "output_type": "execute_result"
    },
    {
     "data": {
      "image/png": "[encoded data removed]",
      "text/plain": [
       "<Figure size 432x288 with 1 Axes>"
      ]
     },
     "metadata": {
      "needs_background": "light"
     },
     "output_type": "display_data"
    }
   ],
   "source": [
    "sns.histplot(data = users_df, x = users_df['Age'], hue = users_df['Gender'])"
   ]
  },
  {
   "cell_type": "code",
   "execution_count": 16,
   "metadata": {
    "colab": {
     "base_uri": "https://localhost:8080/"
    },
    "id": "RGJzDzUQ06P_",
    "outputId": "1ad19090-7de6-4758-b92c-6d4548aef218"
   },
   "outputs": [
    {
     "data": {
      "image/png": "[encoded data removed]",
      "text/plain": [
       "<Figure size 576x432 with 1 Axes>"
      ]
     },
     "metadata": {
      "needs_background": "light"
     },
     "output_type": "display_data"
    }
   ],
   "source": [
    "# user age distribution\n",
    "plt.figure(figsize=(8,6))\n",
    "users_df.Age.hist()\n",
    "plt.title('User Age Distribution')\n",
    "plt.xlabel('Age')\n",
    "plt.ylabel('Number of Users')\n",
    "plt.show()"
   ]
  },
  {
   "cell_type": "code",
   "execution_count": 17,
   "metadata": {
    "colab": {
     "base_uri": "https://localhost:8080/"
    },
    "id": "M9tHr3Ue_PwP",
    "outputId": "08a36baa-d034-4bba-a0cf-1ace7b417bd6"
   },
   "outputs": [
    {
     "data": {
      "text/plain": [
       "Text(0.5, 1.0, 'Movie Rating Distribution')"
      ]
     },
     "execution_count": 17,
     "metadata": {},
     "output_type": "execute_result"
    },
    {
     "data": {
      "image/png": "[encoded data removed]",
      "text/plain": [
       "<Figure size 576x432 with 1 Axes>"
      ]
     },
     "metadata": {
      "needs_background": "light"
     },
     "output_type": "display_data"
    }
   ],
   "source": [
    "ratings_mean_count = pd.DataFrame(Master_Data.groupby('Title')['Rating'].mean())\n",
    "ratings_mean_count['Rating_Counts'] = pd.DataFrame(Master_Data.groupby('Title')['Rating'].count())\n",
    "\n",
    "plt.figure(figsize=(8,6))\n",
    "plt.rcParams['patch.force_edgecolor'] = True\n",
    "sns.histplot(data=ratings_mean_count, x=\"Rating_Counts\", kde=True, bins = 50)\n",
    "plt.xlabel('Number of Ratings')\n",
    "plt.ylabel('Movies Recieving # Ratings')\n",
    "plt.title('Movie Rating Distribution')"
   ]
  },
  {
   "cell_type": "code",
   "execution_count": 18,
   "metadata": {
    "colab": {
     "base_uri": "https://localhost:8080/"
    },
    "id": "-rvF-lCHAPXp",
    "outputId": "38e15864-f6f5-4fba-9111-256901af022e"
   },
   "outputs": [
    {
     "data": {
      "text/plain": [
       "<seaborn.axisgrid.JointGrid at 0x7fbac0bf81d0>"
      ]
     },
     "execution_count": 18,
     "metadata": {},
     "output_type": "execute_result"
    },
    {
     "data": {
      "text/plain": [
       "<Figure size 576x432 with 0 Axes>"
      ]
     },
     "metadata": {},
     "output_type": "display_data"
    },
    {
     "data": {
      "image/png": "[encoded data removed]",
      "text/plain": [
       "<Figure size 432x432 with 3 Axes>"
      ]
     },
     "metadata": {
      "needs_background": "light"
     },
     "output_type": "display_data"
    }
   ],
   "source": [
    "plt.figure(figsize=(8,6))\n",
    "plt.rcParams['patch.force_edgecolor'] = True\n",
    "sns.jointplot(x='Rating', y='Rating_Counts', data=ratings_mean_count, alpha=0.4)"
   ]
  },
  {
   "cell_type": "markdown",
   "metadata": {
    "id": "NS_U2OcMAU5B"
   },
   "source": [
    "# Implicit Data - Alternating Least Squares"
   ]
  },
  {
   "cell_type": "markdown",
   "metadata": {
    "id": "trN2v6PqCtjM"
   },
   "source": [
    "## Loading Data"
   ]
  },
  {
   "cell_type": "code",
   "execution_count": 19,
   "metadata": {
    "colab": {
     "base_uri": "https://localhost:8080/"
    },
    "id": "3uuGrHexDJlO",
    "outputId": "fba2de9f-02b2-4706-d0a3-b48c98b59773"
   },
   "outputs": [
    {
     "name": "stdout",
     "output_type": "stream",
     "text": [
      "Collecting implicit\n",
      "  Downloading implicit-0.5.2-cp36-cp36m-macosx_10_9_x86_64.whl (686 kB)\n",
      "\u001B[K     |████████████████████████████████| 686 kB 9.4 MB/s eta 0:00:01\n",
      "\u001B[?25hRequirement already satisfied: scipy>=0.16 in /opt/anaconda3/envs/GNN_recommender/lib/python3.6/site-packages (from implicit) (1.5.4)\n",
      "Requirement already satisfied: numpy in /opt/anaconda3/envs/GNN_recommender/lib/python3.6/site-packages (from implicit) (1.19.5)\n",
      "Collecting tqdm>=4.27\n",
      "  Downloading tqdm-4.63.1-py2.py3-none-any.whl (76 kB)\n",
      "\u001B[K     |████████████████████████████████| 76 kB 8.4 MB/s  eta 0:00:01\n",
      "\u001B[?25hCollecting importlib-resources; python_version < \"3.7\"\n",
      "  Using cached importlib_resources-5.4.0-py3-none-any.whl (28 kB)\n",
      "Requirement already satisfied: zipp>=3.1.0; python_version < \"3.10\" in /opt/anaconda3/envs/GNN_recommender/lib/python3.6/site-packages (from importlib-resources; python_version < \"3.7\"->tqdm>=4.27->implicit) (3.6.0)\n",
      "Installing collected packages: importlib-resources, tqdm, implicit\n",
      "Successfully installed implicit-0.5.2 importlib-resources-5.4.0 tqdm-4.63.1\n"
     ]
    }
   ],
   "source": [
    "#!apt install cuda\n",
    "!pip install implicit"
   ]
  },
  {
   "cell_type": "code",
   "execution_count": 20,
   "metadata": {
    "colab": {
     "base_uri": "https://localhost:8080/"
    },
    "id": "p7N9PvDNExyB",
    "outputId": "ba9e97c9-9201-417d-dd98-fc8ca15bcc2d"
   },
   "outputs": [],
   "source": [
    "import os\n",
    "import sys\n",
    "import pandas as pd\n",
    "import numpy as np\n",
    "from scipy.sparse import csr_matrix, save_npz, load_npz, vstack, hstack, lil_matrix\n",
    "import implicit\n",
    "import pickle\n",
    "from implicit.evaluation import train_test_split, precision_at_k, mean_average_precision_at_k"
   ]
  },
  {
   "cell_type": "code",
   "execution_count": 21,
   "metadata": {
    "id": "LMxp-uoABkKT"
   },
   "outputs": [],
   "source": [
    "def load_data():\n",
    "    '''load the MovieLens 1m dataset in a Pandas dataframe'''\n",
    "    ratings = pd.read_csv(path_to_data + 'ratings.dat', delimiter='::', header=None, \n",
    "        names=['user_id', 'movie_id', 'rating', 'timestamp'], \n",
    "        usecols=['user_id', 'movie_id', 'rating'], engine='python')\n",
    "\n",
    "    return ratings"
   ]
  },
  {
   "cell_type": "markdown",
   "metadata": {
    "id": "V2btjemWirJQ"
   },
   "source": [
    "## Create Sparse User-Item and Item_User Matrix"
   ]
  },
  {
   "cell_type": "markdown",
   "metadata": {
    "id": "mbfhfOXfE6aR"
   },
   "source": [
    "Create a sparse user-item and item-user matrix for input to ALS. Need to convert the explicit ratings to implicit feedback using a scalar-value - trying 40.\n",
    "\n",
    "The Scipy sparse matrix format is csr_matrix((data), (rows, cols))"
   ]
  },
  {
   "cell_type": "markdown",
   "metadata": {
    "id": "y0twXfiklHNv"
   },
   "source": [
    "we’ll simply binarize the ratings and convert them to ‘1’ (i.e. positive class). The value of ‘1’ represents that the user has interacted with the item. However, we also require negative samples to train our models, to indicate movies that the user has not interacted with. We assume that such movies are those that the user are not interested in — this is a sweeping assumption"
   ]
  },
  {
   "cell_type": "code",
   "execution_count": 23,
   "metadata": {
    "id": "raV3X-iWpGeU"
   },
   "outputs": [],
   "source": [
    "path_to_output = 'Outputs/'"
   ]
  },
  {
   "cell_type": "code",
   "execution_count": 24,
   "metadata": {
    "id": "j3AyP2ICFExG"
   },
   "outputs": [],
   "source": [
    "def sparse_matrices(df):\n",
    "    '''creates the sparse user-item and item-user matrices'''\n",
    "\n",
    "    # using a scalar value (40) to convert ratings from a scale (1-5) to a view (1)\n",
    "    alpha = 40\n",
    "\n",
    "    sparse_user_item = csr_matrix(([alpha]*len(df['movie_id']), (df['user_id'], df['movie_id'])))\n",
    "    # transposing the item-user matrix to create a user-item matrix\n",
    "    sparse_item_user = sparse_user_item.T.tocsr()\n",
    "    # save the matrices for recalculating user on the fly \n",
    "    save_npz(path_to_output + \"sparse_user_item.npz\", sparse_user_item)\n",
    "    save_npz(path_to_output + \"sparse_item_user.npz\", sparse_item_user)\n",
    "\n",
    "    return sparse_user_item, sparse_item_user"
   ]
  },
  {
   "cell_type": "markdown",
   "metadata": {
    "id": "_kgGgB_rTMPf"
   },
   "source": [
    "It is important to note that using implicit feedback reframes the problem that our recommender is trying to solve. Instead of trying to predict movie ratings when using explicit feedback, we are trying to predict whether the user will interact (i.e. click/buy/watch) with each movie, with the aim of presenting to users the movies with the highest interaction likelihood."
   ]
  },
  {
   "cell_type": "markdown",
   "metadata": {
    "id": "YesOJI2piwBl"
   },
   "source": [
    "## Create User and Movie Embeddings"
   ]
  },
  {
   "cell_type": "markdown",
   "metadata": {
    "id": "vUQzSJMPlN2A"
   },
   "source": [
    "create an embedding to map back the ratings to the *movie meta-data title and genre* and *users to their profile meta-data age-range, gender and occupation*."
   ]
  },
  {
   "cell_type": "code",
   "execution_count": 25,
   "metadata": {
    "id": "vrQQlo5rlWKw"
   },
   "outputs": [],
   "source": [
    "def map_movies(movie_ids):\n",
    "    '''takes a list of movie_ids and returns a list of dictionaries with movies information'''\n",
    "    df = pd.read_csv(path_to_data + 'movies.dat', delimiter='::', header=None, \n",
    "        names=['movie_id', 'title', 'genre'], engine='python', encoding='latin-1')\n",
    "\n",
    "    # add years to a new column 'year' and remove them from the movie title\n",
    "    df['year'] = df['title'].str[-5:-1]\n",
    "    df['title'] = df['title'].str[:-6]\n",
    "\n",
    "    # creates an ordered list of dictionaries with the movie information for all movie_ids \n",
    "    mapped_movies = [df[df['movie_id'] == i].to_dict('records')[0] for i in movie_ids]\n",
    "    \n",
    "    return mapped_movies\n",
    "\n",
    "\n",
    "def map_users(user_ids):\n",
    "    '''takes a list of user_ids and returns a list of dictionaries with user information'''\n",
    "    df = pd.read_csv(path_to_data + 'users.dat', delimiter='::', header=None, \n",
    "        names=['user_id', 'gender', 'agerange', 'occupation', 'timestamp'], engine='python')\n",
    "    df = df.drop(['timestamp'], axis=1)\n",
    "\n",
    "    mapped_users = [df[df['user_id'] == i].to_dict('records')[0] for i in user_ids]\n",
    "\n",
    "    return mapped_users"
   ]
  },
  {
   "cell_type": "markdown",
   "metadata": {
    "id": "kHHZsTystpM-"
   },
   "source": [
    "## Calculate most similar users and items"
   ]
  },
  {
   "cell_type": "code",
   "execution_count": 26,
   "metadata": {
    "id": "EmCcAXrDtq1d"
   },
   "outputs": [],
   "source": [
    "def most_similar_items(item_id, n_similar=10):\n",
    "    '''computes the most similar items'''\n",
    "    with open(path_to_output + 'model.sav', 'rb') as pickle_in:\n",
    "        model = pickle.load(pickle_in)\n",
    "\n",
    "    similar, _ = zip(*model.similar_items(item_id, n_similar)[1:])\n",
    "\n",
    "    return map_movies(similar)\n",
    "\n",
    "\n",
    "def most_similar_users(user_id, n_similar=10):\n",
    "    '''computes the most similar users'''\n",
    "    sparse_user_item = load_npz(path_to_output + \"sparse_user_item.npz\")\n",
    "    \n",
    "    with open(path_to_output + 'model.sav', 'rb') as pickle_in:\n",
    "        model = pickle.load(pickle_in)\n",
    "\n",
    "    # similar users gives back [(users, scores)]\n",
    "    # we want just the users and not the first one, because that is the same as the original user\n",
    "    similar, _ = zip(*model.similar_users(user_id, n_similar)[1:])\n",
    "\n",
    "    # orginal users items\n",
    "    original_user_items = list(sparse_user_item[user_id].indices)\n",
    "\n",
    "    # # this maps back user_ids to their information, which is useful for visualization\n",
    "    similar_users_info = map_users(similar)\n",
    "    # # now we want to add the items that a similar user has rated\n",
    "    for user_info in similar_users_info:\n",
    "        # we create a list of items that correspond to the similar user ids\n",
    "        # then compare that in a set operation to the original user items\n",
    "        # as a last step we add it as a key to the user information dictionary\n",
    "        user_info['items'] = set(list(sparse_user_item[user_info['user_id']].indices)) & set(original_user_items)\n",
    "\n",
    "    return similar_users_info"
   ]
  },
  {
   "cell_type": "code",
   "execution_count": 27,
   "metadata": {
    "colab": {
     "base_uri": "https://localhost:8080/"
    },
    "id": "CD961KAbyBMQ",
    "outputId": "3cc2d8d7-83aa-40ff-d5bc-095295ced676"
   },
   "outputs": [
    {
     "data": {
      "text/plain": [
       "[{'user_id': 1, 'gender': 'F', 'agerange': 1, 'occupation': 10},\n",
       " {'user_id': 2, 'gender': 'M', 'agerange': 56, 'occupation': 16},\n",
       " {'user_id': 3, 'gender': 'M', 'agerange': 25, 'occupation': 15}]"
      ]
     },
     "execution_count": 27,
     "metadata": {},
     "output_type": "execute_result"
    }
   ],
   "source": [
    "similar_user_info = map_users([1,2,3])\n",
    "similar_user_info"
   ]
  },
  {
   "cell_type": "markdown",
   "metadata": {
    "id": "IlHhPehWWvQq"
   },
   "source": [
    "## Split the dataset in a train and test-set"
   ]
  },
  {
   "cell_type": "markdown",
   "metadata": {
    "id": "1_fpxNhei8RN"
   },
   "source": [
    "Compute the precision and mean-average-precision evaluation metrics"
   ]
  },
  {
   "cell_type": "code",
   "execution_count": 28,
   "metadata": {
    "id": "l-eMyefiWzAG"
   },
   "outputs": [],
   "source": [
    "def model():\n",
    "    '''computes p@k and map@k evaluation metrics and saves model'''\n",
    "    sparse_item_user = load_npz(path_to_output + \"sparse_item_user.npz\")\n",
    "\n",
    "    train, test = train_test_split(sparse_item_user, train_percentage=0.8)\n",
    "\n",
    "    # factors = 50, regularization = 0.01, iterations = 30 from microsoft paper\n",
    "    #model = implicit.als.AlternatingLeastSquares(factors=100, \n",
    "        #regularization=0.1, iterations=20, calculate_training_loss=False)\n",
    "    model = implicit.als.AlternatingLeastSquares(factors=50, \n",
    "        regularization=0.01, iterations=30, calculate_training_loss=False)\n",
    "    model.fit(train)\n",
    "\n",
    "    with open(path_to_output + 'model.sav', 'wb') as pickle_out:\n",
    "        pickle.dump(model, pickle_out)\n",
    "    \n",
    "    p_at_k = precision_at_k(model, train, test, K=10)\n",
    "    m_at_k = mean_average_precision_at_k(model, train, test, K=10)\n",
    "\n",
    "    return p_at_k, m_at_k"
   ]
  },
  {
   "cell_type": "markdown",
   "metadata": {
    "id": "vjvw5YVji-6p"
   },
   "source": [
    "## Recommendations"
   ]
  },
  {
   "cell_type": "markdown",
   "metadata": {
    "id": "cgb1xPIRcuvb"
   },
   "source": [
    "After instantiating the model we can use it to recommend movies to one or all users found in our dataset. Output for implicit.recommend() are tuples of (item_ids, scores), but we only need the item_ids and output for implicit.recommend_all() is a Numpy array that we need to add to the user DataFrame."
   ]
  },
  {
   "cell_type": "code",
   "execution_count": 29,
   "metadata": {
    "id": "f9yyEiFscu2q"
   },
   "outputs": [],
   "source": [
    "def recommend(user_id):\n",
    "    '''recommend N items to user'''\n",
    "    sparse_user_item = load_npz(path_to_output + \"sparse_user_item.npz\")\n",
    "\n",
    "    with open(path_to_output + 'model.sav', 'rb') as pickle_in:\n",
    "        model = pickle.load(pickle_in)\n",
    "\n",
    "    recommended, _ =  zip(*model.recommend(user_id, sparse_user_item, N=5))\n",
    "\n",
    "    return recommended, map_movies(recommended)\n",
    "\n",
    "\n",
    "def recommend_all_users():\n",
    "    '''recommend N items to all users'''\n",
    "    sparse_user_item = load_npz(path_to_output + \"sparse_user_item.npz\")\n",
    "\n",
    "    with open(path_to_output + 'model.sav', 'rb') as pickle_in:\n",
    "        model = pickle.load(pickle_in)\n",
    "\n",
    "    # numpy array with N recommendations for each user\n",
    "    # remove first array, because those are the columns\n",
    "    all_recommended = model.recommend_all(user_items=sparse_user_item, N=10, \n",
    "        recalculate_user=False, filter_already_liked_items=True)[1:]\n",
    "\n",
    "    # create a new Pandas Dataframe with user_id, 10 recommendations, for all users\n",
    "    df = pd.read_csv(path_to_data + 'users.dat', delimiter='::', header=None, \n",
    "        names=['user_id', 'gender', 'agerange', 'occupation', 'timestamp'], engine='python')\n",
    "    df = df.drop(['gender', 'agerange', 'occupation', 'timestamp'], axis=1)\n",
    "    df[['rec1', 'rec2', 'rec3', 'rec4', 'rec5', 'rec6', 'rec7', 'rec8', 'rec9', 'rec10']] = pd.DataFrame(all_recommended)\n",
    "    df.to_pickle(path_to_output + \"all_recommended.pkl\")\n",
    "\n",
    "    return df"
   ]
  },
  {
   "cell_type": "markdown",
   "metadata": {
    "id": "QgkS0vhHeqMb"
   },
   "source": [
    "we can also use the library to recommend movies on-the-fly to new users that are not included in either our sparse matrices or our model. "
   ]
  },
  {
   "cell_type": "markdown",
   "metadata": {
    "id": "EvY1GU_hfa89"
   },
   "source": [
    "since the model requires the sparse_user_item matrix as a parameter, but Scipy does not allow appending to its sparse matrices.\n",
    "Instead, we need to load the sparse matrix into memory and stack a new unknown user and its implicit ratings to the data, indices and change the shape of the matrix. Stacking is done in place, so the matrix is updated immediately."
   ]
  },
  {
   "cell_type": "markdown",
   "metadata": {
    "id": "AeP_c-GdgopO"
   },
   "source": [
    "        Parameters\n",
    "        ----------\n",
    "        userid : Union[int, array_like]\n",
    "            The userid or array of userids to calculate recommendations for\n",
    "        user_items : csr_matrix\n",
    "            A sparse matrix of shape (users, number_items). This lets us look\n",
    "            up the liked items and their weights for the user. This is used to filter out\n",
    "            items that have already been liked from the output, and to also potentially\n",
    "            recalculate the user representation. Each row in this sparse matrix corresponds\n",
    "            to a row in the userid parameter: that is the first row in this matrix contains\n",
    "            the liked items for the first user in the userid array.\n",
    "        N : int, optional\n",
    "            The number of results to return\n",
    "        filter_already_liked_items: bool, optional\n",
    "            When true, don't return items present in the training set that were rated\n",
    "            by the specified user.\n",
    "        filter_items : array_like, optional\n",
    "            List of extra item ids to filter out from the output\n",
    "        recalculate_user : bool, optional\n",
    "            When true, don't rely on stored user embeddings and instead recalculate from the\n",
    "            passed in user_items. This option isn't supported by all models.\n",
    "        items: array_like, optional\n",
    "            Array of extra item ids. When set this will only rank the items in this array instead\n",
    "            of ranking every item the model was fit for. This parameter cannot be used with\n",
    "            filter_items"
   ]
  },
  {
   "cell_type": "code",
   "execution_count": 30,
   "metadata": {
    "id": "GubwtP5DgpTL"
   },
   "outputs": [],
   "source": [
    "def recalculate_user(user_ratings):\n",
    "    '''adds new user and its liked items to sparse matrix and returns recalculated recommendations'''\n",
    "\n",
    "    alpha = 40\n",
    "    m = load_npz(path_to_output + 'sparse_user_item.npz')\n",
    "    n_users, n_movies = m.shape\n",
    "\n",
    "    ratings = [alpha for i in range(len(user_ratings))]\n",
    "\n",
    "    m.data = np.hstack((m.data, ratings))\n",
    "    m.indices = np.hstack((m.indices, user_ratings))\n",
    "    m.indptr = np.hstack((m.indptr, len(m.data)))\n",
    "    m._shape = (n_users+1, n_movies)\n",
    "\n",
    "    # recommend N items to new user\n",
    "    with open(path_to_output + 'model.sav', 'rb') as pickle_in:\n",
    "        model = pickle.load(pickle_in)\n",
    "    recommended, _ =  zip(*model.recommend(n_users, m, recalculate_user=True))\n",
    "    \n",
    "    return recommended, map_movies(recommended)"
   ]
  },
  {
   "cell_type": "markdown",
   "metadata": {},
   "source": [
    "## Vanilla Matrix Completion"
   ]
  },
  {
   "cell_type": "code",
   "execution_count": 42,
   "metadata": {},
   "outputs": [
    {
     "name": "stderr",
     "output_type": "stream",
     "text": [
      "/opt/anaconda3/envs/GNN_recommender/lib/python3.6/site-packages/tensorflow/python/framework/dtypes.py:516: FutureWarning: Passing (type, 1) or '1type' as a synonym of type is deprecated; in a future version of numpy, it will be understood as (type, (1,)) / '(1,)type'.\n",
      "  _np_qint8 = np.dtype([(\"qint8\", np.int8, 1)])\n",
      "/opt/anaconda3/envs/GNN_recommender/lib/python3.6/site-packages/tensorflow/python/framework/dtypes.py:517: FutureWarning: Passing (type, 1) or '1type' as a synonym of type is deprecated; in a future version of numpy, it will be understood as (type, (1,)) / '(1,)type'.\n",
      "  _np_quint8 = np.dtype([(\"quint8\", np.uint8, 1)])\n",
      "/opt/anaconda3/envs/GNN_recommender/lib/python3.6/site-packages/tensorflow/python/framework/dtypes.py:518: FutureWarning: Passing (type, 1) or '1type' as a synonym of type is deprecated; in a future version of numpy, it will be understood as (type, (1,)) / '(1,)type'.\n",
      "  _np_qint16 = np.dtype([(\"qint16\", np.int16, 1)])\n",
      "/opt/anaconda3/envs/GNN_recommender/lib/python3.6/site-packages/tensorflow/python/framework/dtypes.py:519: FutureWarning: Passing (type, 1) or '1type' as a synonym of type is deprecated; in a future version of numpy, it will be understood as (type, (1,)) / '(1,)type'.\n",
      "  _np_quint16 = np.dtype([(\"quint16\", np.uint16, 1)])\n",
      "/opt/anaconda3/envs/GNN_recommender/lib/python3.6/site-packages/tensorflow/python/framework/dtypes.py:520: FutureWarning: Passing (type, 1) or '1type' as a synonym of type is deprecated; in a future version of numpy, it will be understood as (type, (1,)) / '(1,)type'.\n",
      "  _np_qint32 = np.dtype([(\"qint32\", np.int32, 1)])\n",
      "/opt/anaconda3/envs/GNN_recommender/lib/python3.6/site-packages/tensorflow/python/framework/dtypes.py:525: FutureWarning: Passing (type, 1) or '1type' as a synonym of type is deprecated; in a future version of numpy, it will be understood as (type, (1,)) / '(1,)type'.\n",
      "  np_resource = np.dtype([(\"resource\", np.ubyte, 1)])\n",
      "/opt/anaconda3/envs/GNN_recommender/lib/python3.6/site-packages/tensorboard/compat/tensorflow_stub/dtypes.py:541: FutureWarning: Passing (type, 1) or '1type' as a synonym of type is deprecated; in a future version of numpy, it will be understood as (type, (1,)) / '(1,)type'.\n",
      "  _np_qint8 = np.dtype([(\"qint8\", np.int8, 1)])\n",
      "/opt/anaconda3/envs/GNN_recommender/lib/python3.6/site-packages/tensorboard/compat/tensorflow_stub/dtypes.py:542: FutureWarning: Passing (type, 1) or '1type' as a synonym of type is deprecated; in a future version of numpy, it will be understood as (type, (1,)) / '(1,)type'.\n",
      "  _np_quint8 = np.dtype([(\"quint8\", np.uint8, 1)])\n",
      "/opt/anaconda3/envs/GNN_recommender/lib/python3.6/site-packages/tensorboard/compat/tensorflow_stub/dtypes.py:543: FutureWarning: Passing (type, 1) or '1type' as a synonym of type is deprecated; in a future version of numpy, it will be understood as (type, (1,)) / '(1,)type'.\n",
      "  _np_qint16 = np.dtype([(\"qint16\", np.int16, 1)])\n",
      "/opt/anaconda3/envs/GNN_recommender/lib/python3.6/site-packages/tensorboard/compat/tensorflow_stub/dtypes.py:544: FutureWarning: Passing (type, 1) or '1type' as a synonym of type is deprecated; in a future version of numpy, it will be understood as (type, (1,)) / '(1,)type'.\n",
      "  _np_quint16 = np.dtype([(\"quint16\", np.uint16, 1)])\n",
      "/opt/anaconda3/envs/GNN_recommender/lib/python3.6/site-packages/tensorboard/compat/tensorflow_stub/dtypes.py:545: FutureWarning: Passing (type, 1) or '1type' as a synonym of type is deprecated; in a future version of numpy, it will be understood as (type, (1,)) / '(1,)type'.\n",
      "  _np_qint32 = np.dtype([(\"qint32\", np.int32, 1)])\n",
      "/opt/anaconda3/envs/GNN_recommender/lib/python3.6/site-packages/tensorboard/compat/tensorflow_stub/dtypes.py:550: FutureWarning: Passing (type, 1) or '1type' as a synonym of type is deprecated; in a future version of numpy, it will be understood as (type, (1,)) / '(1,)type'.\n",
      "  np_resource = np.dtype([(\"resource\", np.ubyte, 1)])\n"
     ]
    }
   ],
   "source": [
    "import tensorflow as tf\n",
    "import numpy as np\n",
    "\n",
    "# Build the factorization network.\n",
    "class KerasMF:\n",
    "\n",
    "    def __init__(self, R, k=3, l2=1e-4, with_bias=False):\n",
    "        self.l2_reg = tf.keras.regularizers.l2(l2)\n",
    "        self.m, self.n = R.shape\n",
    "        self.k = k\n",
    "        self.with_bias = with_bias\n",
    "        self.model = self.create_model()\n",
    "\n",
    "    def create_model(self):\n",
    "        user_inputs = tf.keras.layers.Input(shape=(1,), name=\"user\")\n",
    "        item_inputs = tf.keras.layers.Input(shape=(1,), name=\"item\")\n",
    "        user_embeddings = tf.keras.layers.Embedding(\n",
    "        input_dim=self.m, output_dim=self.k, name=\"user_embedding\",\n",
    "        embeddings_regularizer=self.l2_reg)(user_inputs)\n",
    "        item_embeddings = tf.keras.layers.Embedding(\n",
    "        input_dim=self.n, output_dim=self.k, name=\"item_embedding\",\n",
    "        embeddings_regularizer=self.l2_reg)(item_inputs)\n",
    "        dots = tf.keras.layers.Dot(axes=-1, name=\"logits\")([user_embeddings, item_embeddings])\n",
    "        if self.with_bias:\n",
    "        # The formal use of bias need a tf.keras.layers.Dense layer.\n",
    "        # But since we are customizing our network architecture,\n",
    "        # we will use the tf.keras.layers.Embedding layer to do the trick.\n",
    "            user_biases = tf.keras.layers.Embedding(input_dim=self.m, output_dim=1, name=\"user_bias\")(user_inputs)\n",
    "            item_biases = tf.keras.layers.Embedding(\n",
    "            input_dim=self.n, output_dim=1, name=\"item_bias\")(item_inputs)\n",
    "            dots = tf.keras.layers.Add()([dots, user_biases, item_biases])\n",
    "        model = tf.keras.Model(\n",
    "        name=\"matrix_factorizer\",\n",
    "        inputs=[user_inputs, item_inputs], outputs=dots)\n",
    "        model.compile(\n",
    "        optimizer=tf.keras.optimizers.SGD(),\n",
    "        loss=tf.keras.losses.MeanSquaredError(),\n",
    "        metrics=[\n",
    "        tf.keras.metrics.MeanSquaredError()\n",
    "        ]\n",
    "        )\n",
    "        print(model.summary())\n",
    "        return model"
   ]
  },
  {
   "cell_type": "code",
   "execution_count": 36,
   "metadata": {},
   "outputs": [
    {
     "name": "stdout",
     "output_type": "stream",
     "text": [
      "0.0\n",
      "UserID   1     2     3     4     5     6     7     8     9     10    ...  \\\n",
      "MovieID                                                              ...   \n",
      "1         5.0   0.0   0.0   0.0   0.0   4.0   0.0   4.0   5.0   5.0  ...   \n",
      "2         0.0   0.0   0.0   0.0   0.0   0.0   0.0   0.0   0.0   5.0  ...   \n",
      "3         0.0   0.0   0.0   0.0   0.0   0.0   0.0   0.0   0.0   0.0  ...   \n",
      "4         0.0   0.0   0.0   0.0   0.0   0.0   0.0   3.0   0.0   0.0  ...   \n",
      "5         0.0   0.0   0.0   0.0   0.0   0.0   0.0   0.0   0.0   0.0  ...   \n",
      "\n",
      "UserID   6031  6032  6033  6034  6035  6036  6037  6038  6039  6040  \n",
      "MovieID                                                              \n",
      "1         0.0   4.0   0.0   0.0   4.0   0.0   0.0   0.0   0.0   3.0  \n",
      "2         0.0   0.0   0.0   0.0   0.0   0.0   0.0   0.0   0.0   0.0  \n",
      "3         0.0   0.0   0.0   0.0   1.0   0.0   0.0   0.0   0.0   0.0  \n",
      "4         0.0   0.0   0.0   0.0   2.0   2.0   0.0   0.0   0.0   0.0  \n",
      "5         0.0   0.0   0.0   0.0   1.0   0.0   0.0   0.0   0.0   0.0  \n",
      "\n",
      "[5 rows x 6040 columns]\n",
      "Model: \"matrix_factorizer\"\n",
      "__________________________________________________________________________________________________\n",
      "Layer (type)                    Output Shape         Param #     Connected to                     \n",
      "==================================================================================================\n",
      "user (InputLayer)               [(None, 1)]          0                                            \n",
      "__________________________________________________________________________________________________\n",
      "item (InputLayer)               [(None, 1)]          0                                            \n",
      "__________________________________________________________________________________________________\n",
      "user_embedding (Embedding)      (None, 1, 10)        37060       user[0][0]                       \n",
      "__________________________________________________________________________________________________\n",
      "item_embedding (Embedding)      (None, 1, 10)        60400       item[0][0]                       \n",
      "__________________________________________________________________________________________________\n",
      "logits (Dot)                    (None, 1, 1)         0           user_embedding[0][0]             \n",
      "                                                                 item_embedding[0][0]             \n",
      "__________________________________________________________________________________________________\n",
      "user_bias (Embedding)           (None, 1, 1)         3706        user[0][0]                       \n",
      "__________________________________________________________________________________________________\n",
      "item_bias (Embedding)           (None, 1, 1)         6040        item[0][0]                       \n",
      "__________________________________________________________________________________________________\n",
      "add_2 (Add)                     (None, 1, 1)         0           logits[0][0]                     \n",
      "                                                                 user_bias[0][0]                  \n",
      "                                                                 item_bias[0][0]                  \n",
      "==================================================================================================\n",
      "Total params: 107,206\n",
      "Trainable params: 107,206\n",
      "Non-trainable params: 0\n",
      "__________________________________________________________________________________________________\n",
      "None\n",
      "(1000209,)\n",
      "(1000209,)\n",
      "Epoch 1/75\n",
      "1000/1000 [==============================] - 2s 2ms/step - loss: 1.1717 - mean_squared_error: 1.1635\n",
      "Epoch 2/75\n",
      "1000/1000 [==============================] - 2s 2ms/step - loss: 1.1581 - mean_squared_error: 1.1500\n",
      "Epoch 3/75\n",
      "1000/1000 [==============================] - 2s 2ms/step - loss: 1.7991 - mean_squared_error: 1.7910\n",
      "Epoch 4/75\n",
      "1000/1000 [==============================] - 2s 2ms/step - loss: 1.2435 - mean_squared_error: 1.2354\n",
      "Epoch 5/75\n",
      "1000/1000 [==============================] - 2s 2ms/step - loss: 1.6957 - mean_squared_error: 1.6877\n",
      "Epoch 6/75\n",
      "1000/1000 [==============================] - 2s 2ms/step - loss: 1.2042 - mean_squared_error: 1.1962\n",
      "Epoch 7/75\n",
      "1000/1000 [==============================] - 2s 2ms/step - loss: 1.9749 - mean_squared_error: 1.9670\n",
      "Epoch 8/75\n",
      "1000/1000 [==============================] - 2s 2ms/step - loss: 1.4240 - mean_squared_error: 1.4161\n",
      "Epoch 9/75\n",
      "1000/1000 [==============================] - 2s 2ms/step - loss: 1.3841 - mean_squared_error: 1.3762\n",
      "Epoch 10/75\n",
      "1000/1000 [==============================] - 2s 2ms/step - loss: 1.4610 - mean_squared_error: 1.4532\n",
      "Epoch 11/75\n",
      "1000/1000 [==============================] - 2s 2ms/step - loss: 1.3999 - mean_squared_error: 1.3921\n",
      "Epoch 12/75\n",
      "1000/1000 [==============================] - 2s 2ms/step - loss: 1.5261 - mean_squared_error: 1.5183\n",
      "Epoch 13/75\n",
      "1000/1000 [==============================] - 2s 2ms/step - loss: 2.0516 - mean_squared_error: 2.0438\n",
      "Epoch 14/75\n",
      "1000/1000 [==============================] - 2s 2ms/step - loss: 2.2838 - mean_squared_error: 2.2760\n",
      "Epoch 15/75\n",
      "1000/1000 [==============================] - 2s 2ms/step - loss: 1.1154 - mean_squared_error: 1.1077\n",
      "Epoch 16/75\n",
      "1000/1000 [==============================] - 2s 2ms/step - loss: 1.3323 - mean_squared_error: 1.3246\n",
      "Epoch 17/75\n",
      "1000/1000 [==============================] - 2s 2ms/step - loss: 1.3976 - mean_squared_error: 1.3900\n",
      "Epoch 18/75\n",
      "1000/1000 [==============================] - 2s 2ms/step - loss: 1.4904 - mean_squared_error: 1.4827\n",
      "Epoch 19/75\n",
      "1000/1000 [==============================] - 2s 2ms/step - loss: 0.9752 - mean_squared_error: 0.9677\n",
      "Epoch 20/75\n",
      "1000/1000 [==============================] - 2s 2ms/step - loss: 2.1968 - mean_squared_error: 2.1892\n",
      "Epoch 21/75\n",
      "1000/1000 [==============================] - 2s 2ms/step - loss: 1.8691 - mean_squared_error: 1.8616\n",
      "Epoch 22/75\n",
      "1000/1000 [==============================] - 2s 2ms/step - loss: 1.1805 - mean_squared_error: 1.1730\n",
      "Epoch 23/75\n",
      "1000/1000 [==============================] - 2s 2ms/step - loss: 1.6902 - mean_squared_error: 1.6827\n",
      "Epoch 24/75\n",
      "1000/1000 [==============================] - 2s 2ms/step - loss: 0.7480 - mean_squared_error: 0.7406\n",
      "Epoch 25/75\n",
      "1000/1000 [==============================] - 2s 2ms/step - loss: 1.6404 - mean_squared_error: 1.6330\n",
      "Epoch 26/75\n",
      "1000/1000 [==============================] - 2s 2ms/step - loss: 1.9099 - mean_squared_error: 1.9025\n",
      "Epoch 27/75\n",
      "1000/1000 [==============================] - 2s 2ms/step - loss: 1.9747 - mean_squared_error: 1.9674\n",
      "Epoch 28/75\n",
      "1000/1000 [==============================] - 2s 2ms/step - loss: 1.6496 - mean_squared_error: 1.6423\n",
      "Epoch 29/75\n",
      "1000/1000 [==============================] - 2s 2ms/step - loss: 2.6806 - mean_squared_error: 2.6733\n",
      "Epoch 30/75\n",
      "1000/1000 [==============================] - 2s 2ms/step - loss: 3.1948 - mean_squared_error: 3.1875\n",
      "Epoch 31/75\n",
      "1000/1000 [==============================] - 2s 2ms/step - loss: 2.2246 - mean_squared_error: 2.2174\n",
      "Epoch 32/75\n",
      "1000/1000 [==============================] - 2s 2ms/step - loss: 2.4178 - mean_squared_error: 2.4106\n",
      "Epoch 33/75\n",
      "1000/1000 [==============================] - 3s 3ms/step - loss: 1.9739 - mean_squared_error: 1.9667\n",
      "Epoch 34/75\n",
      "1000/1000 [==============================] - 2s 2ms/step - loss: 1.7034 - mean_squared_error: 1.6962\n",
      "Epoch 35/75\n",
      "1000/1000 [==============================] - 2s 2ms/step - loss: 1.0104 - mean_squared_error: 1.0033\n",
      "Epoch 36/75\n",
      "1000/1000 [==============================] - 2s 2ms/step - loss: 1.3321 - mean_squared_error: 1.3250\n",
      "Epoch 37/75\n",
      "1000/1000 [==============================] - 2s 2ms/step - loss: 1.0535 - mean_squared_error: 1.0464\n",
      "Epoch 38/75\n",
      "1000/1000 [==============================] - 2s 2ms/step - loss: 2.1114 - mean_squared_error: 2.1044\n",
      "Epoch 39/75\n",
      "1000/1000 [==============================] - 2s 2ms/step - loss: 2.9753 - mean_squared_error: 2.9683\n",
      "Epoch 40/75\n",
      "1000/1000 [==============================] - 2s 2ms/step - loss: 1.8151 - mean_squared_error: 1.8081\n",
      "Epoch 41/75\n",
      "1000/1000 [==============================] - 2s 2ms/step - loss: 2.0809 - mean_squared_error: 2.0739\n",
      "Epoch 42/75\n",
      "1000/1000 [==============================] - 2s 2ms/step - loss: 1.1283 - mean_squared_error: 1.1213\n",
      "Epoch 43/75\n",
      "1000/1000 [==============================] - 2s 2ms/step - loss: 1.3692 - mean_squared_error: 1.3623\n",
      "Epoch 44/75\n",
      "1000/1000 [==============================] - 2s 2ms/step - loss: 1.9613 - mean_squared_error: 1.9544\n",
      "Epoch 45/75\n",
      "1000/1000 [==============================] - 2s 2ms/step - loss: 1.7577 - mean_squared_error: 1.7508\n",
      "Epoch 46/75\n",
      "1000/1000 [==============================] - 2s 2ms/step - loss: 1.4294 - mean_squared_error: 1.4226\n",
      "Epoch 47/75\n",
      "1000/1000 [==============================] - 2s 2ms/step - loss: 1.6801 - mean_squared_error: 1.6733\n",
      "Epoch 48/75\n",
      "1000/1000 [==============================] - 2s 2ms/step - loss: 1.2699 - mean_squared_error: 1.2631\n",
      "Epoch 49/75\n",
      "1000/1000 [==============================] - 2s 2ms/step - loss: 1.7365 - mean_squared_error: 1.7298\n",
      "Epoch 50/75\n",
      "1000/1000 [==============================] - 2s 2ms/step - loss: 1.7191 - mean_squared_error: 1.7123\n",
      "Epoch 51/75\n",
      "1000/1000 [==============================] - 2s 2ms/step - loss: 2.1688 - mean_squared_error: 2.1621\n",
      "Epoch 52/75\n",
      "1000/1000 [==============================] - 2s 2ms/step - loss: 2.0151 - mean_squared_error: 2.0084\n",
      "Epoch 53/75\n",
      "1000/1000 [==============================] - 2s 2ms/step - loss: 2.3721 - mean_squared_error: 2.3655\n",
      "Epoch 54/75\n",
      "1000/1000 [==============================] - 2s 2ms/step - loss: 1.4886 - mean_squared_error: 1.4820\n",
      "Epoch 55/75\n",
      "1000/1000 [==============================] - 2s 2ms/step - loss: 2.4605 - mean_squared_error: 2.4539\n",
      "Epoch 56/75\n",
      "1000/1000 [==============================] - 2s 2ms/step - loss: 2.0085 - mean_squared_error: 2.0019\n",
      "Epoch 57/75\n",
      "1000/1000 [==============================] - 2s 2ms/step - loss: 2.8753 - mean_squared_error: 2.8687\n",
      "Epoch 58/75\n",
      "1000/1000 [==============================] - 2s 2ms/step - loss: 1.7845 - mean_squared_error: 1.7780\n",
      "Epoch 59/75\n",
      "1000/1000 [==============================] - 2s 2ms/step - loss: 1.3365 - mean_squared_error: 1.3300\n",
      "Epoch 60/75\n",
      "1000/1000 [==============================] - 2s 2ms/step - loss: 1.9501 - mean_squared_error: 1.9437\n",
      "Epoch 61/75\n",
      "1000/1000 [==============================] - 2s 2ms/step - loss: 1.8999 - mean_squared_error: 1.8935\n",
      "Epoch 62/75\n",
      "1000/1000 [==============================] - 2s 2ms/step - loss: 1.5491 - mean_squared_error: 1.5426\n",
      "Epoch 63/75\n",
      "1000/1000 [==============================] - 2s 2ms/step - loss: 1.7842 - mean_squared_error: 1.7778\n",
      "Epoch 64/75\n",
      "1000/1000 [==============================] - 2s 2ms/step - loss: 2.0472 - mean_squared_error: 2.0408\n",
      "Epoch 65/75\n",
      "1000/1000 [==============================] - 2s 2ms/step - loss: 1.8094 - mean_squared_error: 1.8031\n",
      "Epoch 66/75\n",
      "1000/1000 [==============================] - 2s 2ms/step - loss: 1.4353 - mean_squared_error: 1.4290\n",
      "Epoch 67/75\n",
      "1000/1000 [==============================] - 2s 2ms/step - loss: 2.0901 - mean_squared_error: 2.0838\n",
      "Epoch 68/75\n",
      "1000/1000 [==============================] - 2s 2ms/step - loss: 0.9615 - mean_squared_error: 0.9552\n",
      "Epoch 69/75\n",
      "1000/1000 [==============================] - 2s 2ms/step - loss: 0.7232 - mean_squared_error: 0.7170\n",
      "Epoch 70/75\n",
      "1000/1000 [==============================] - 2s 2ms/step - loss: 1.2707 - mean_squared_error: 1.2645\n",
      "Epoch 71/75\n",
      "1000/1000 [==============================] - 3s 3ms/step - loss: 1.6342 - mean_squared_error: 1.6280\n",
      "Epoch 72/75\n",
      "1000/1000 [==============================] - 2s 2ms/step - loss: 1.8962 - mean_squared_error: 1.8900\n",
      "Epoch 73/75\n",
      "1000/1000 [==============================] - 3s 3ms/step - loss: 1.9668 - mean_squared_error: 1.9607\n",
      "Epoch 74/75\n",
      "1000/1000 [==============================] - 2s 2ms/step - loss: 2.2976 - mean_squared_error: 2.2914\n",
      "Epoch 75/75\n",
      "1000/1000 [==============================] - 2s 2ms/step - loss: 2.1305 - mean_squared_error: 2.1244\n",
      "(3706, 6040)\n",
      "[[ 0.    0.01 -0.   ...  0.    0.    0.  ]\n",
      " [ 0.    0.   -0.   ...  0.   -0.   -0.  ]\n",
      " [ 0.    0.   -0.   ...  0.    0.   -0.  ]\n",
      " ...\n",
      " [ 0.   -0.   -0.   ... -0.    0.   -0.  ]\n",
      " [-0.   -0.    0.   ... -0.   -0.    0.  ]\n",
      " [-0.   -0.   -0.   ...  0.    0.    0.  ]]\n",
      "3161443.566901879\n"
     ]
    }
   ],
   "source": [
    "# print(movie_ratings_users_df.columns)\n",
    "tf.compat.v1.enable_eager_execution()\n",
    "ratings = movie_ratings_users_df.pivot(index='MovieID', columns='UserID', values='Rating')\n",
    "ratings = ratings.fillna(0.0)\n",
    "print(ratings.isna().sum().sum()/float(ratings.shape[0]*ratings.shape[1]))\n",
    "print(ratings.head())\n",
    "ratings = ratings.values\n",
    "ratings = np.nan_to_num(ratings)\n",
    "\n",
    "keras_mf = KerasMF(R=ratings,k=10, with_bias=True)\n",
    "R_u, R_i = ratings.nonzero()\n",
    "R_s = ratings[ratings.nonzero()]\n",
    "R_s=np.asarray(R_s).astype(np.float)\n",
    "R_i = np.asarray(R_i).astype(np.float)\n",
    "R_u=np.asarray(R_u).astype(np.float)\n",
    "\n",
    "print(R_u.shape)\n",
    "print(R_i.shape)\n",
    "\n",
    "train_data = tf.data.Dataset.from_tensor_slices(({\"user\": R_u, \"item\": R_i}, R_s))\n",
    "train_data = train_data.shuffle(buffer_size=1000).repeat(count=None).batch(1)\n",
    "keras_mf.model.fit(train_data, epochs=75, steps_per_epoch=1000, verbose=1)\n",
    "keras_preds = keras_mf.model.predict({\"user\": R_u, \"item\": R_i})\n",
    "diff = 0\n",
    "for i in np.stack([np.squeeze(keras_preds),\n",
    "               ratings[ratings.nonzero()]], axis=1):\n",
    "    diff += abs(i[0] - i[1])\n",
    "\n",
    "keras_user_embeddings = keras_mf.model.get_layer(name=\"user_embedding\").weights[0].numpy()\n",
    "keras_item_embeddings = keras_mf.model.get_layer(name=\"item_embedding\").weights[0].numpy()\n",
    "dots = keras_user_embeddings.dot(keras_item_embeddings.T)\n",
    "print(np.round(dots, 2).shape)\n",
    "print(np.round(dots,2))\n",
    "print(diff)"
   ]
  },
  {
   "cell_type": "markdown",
   "metadata": {
    "id": "2iB9jRIrjB1a"
   },
   "source": [
    "## Testing ALS"
   ]
  },
  {
   "cell_type": "code",
   "execution_count": 31,
   "metadata": {
    "colab": {
     "base_uri": "https://localhost:8080/",
     "height": 113,
     "referenced_widgets": [
      "41dc73ba3f7e4b66bf471aba02f70ead",
      "6411ccaab07b4eae9140a5ab42277561",
      "f668008b03454274bf79fdd55f36f547",
      "0d2c794d686f40fb81f0152794871215",
      "2d62a3e6dee44ba89d7cfc9479f0e091",
      "d4d7d785861247f3b5f39d62e763b29e",
      "7bdd6c4667e14c94aeb616826b38a051",
      "69bb96e7c2fa43d3a0155432bec728ff",
      "0bb1a4278dd342deb10bbebdbf5cf6c6",
      "fc0f3894bb7a4f5a9b95d60853c3cc0d",
      "e4242c2babaa4633aa97b8954043073e",
      "93bf20f3c6e9485ea800aa2401140476",
      "6b9d8ce5acf640a6929390916a9b1ca8",
      "8be50582d6cd4037a9e61f385145d8d9",
      "1e0951ac829f4b7ea27a010f2ba920b1",
      "49cfb4afb6894a4db4e1ac5abb4a473e",
      "6d1e9a89a27c41e5b740705d98b3de1f",
      "d0ca7eaf8ee14d1db0cc021c6f113641",
      "e10ad8d9a0c24273928da09b59343dc3",
      "09951e29abb84ff7849c35bfc30634b4",
      "e40aee4e888b4485b923c062b969c56f",
      "1c16d76a1a1b4953bf6d0a9686e90f30",
      "457d4f27ece947afa313a1176d97eb48",
      "2f537c3bc39b4dd692c1c1eaa59c508e",
      "42cbbcb663234ec3a1dad03c2487f383",
      "80c0c962fc7a41e48ee780bc28c2fcf6",
      "91fba9bc1cc140c09e9ac195d655d1b3",
      "bb639e3563e74bf5985214c4cf06155f",
      "914799cec1364ccc932027c76f95b0a2",
      "d6779d98821c496099d5460308ef0c81",
      "9d5a4b157fd2436c9385f5a91db5734d",
      "f8c50cfecdab427aa7990ef2c7921233",
      "4c8a6c9e176444a69016a756f42d793d"
     ]
    },
    "id": "1pXFa2ZmjDX_",
    "outputId": "83c9234f-68bb-4370-ce32-20a3a6d18bc2"
   },
   "outputs": [
    {
     "name": "stderr",
     "output_type": "stream",
     "text": [
      "/opt/anaconda3/envs/GNN_recommender/lib/python3.6/site-packages/implicit/utils.py:27: UserWarning: OpenBLAS detected. Its highly recommend to set the environment variable 'export OPENBLAS_NUM_THREADS=1' to disable its internal multithreading\n",
      "  \"OpenBLAS detected. Its highly recommend to set the environment variable \"\n"
     ]
    },
    {
     "data": {
      "application/vnd.jupyter.widget-view+json": {
       "model_id": "31c390c42b1a40d6b6057a51037f63ef",
       "version_major": 2,
       "version_minor": 0
      },
      "text/plain": [
       "  0%|          | 0/30 [00:00<?, ?it/s]"
      ]
     },
     "metadata": {},
     "output_type": "display_data"
    },
    {
     "data": {
      "application/vnd.jupyter.widget-view+json": {
       "model_id": "1a178b458d9c4c95a9ebc48cf71a3779",
       "version_major": 2,
       "version_minor": 0
      },
      "text/plain": [
       "  0%|          | 0/3472 [00:00<?, ?it/s]"
      ]
     },
     "metadata": {},
     "output_type": "display_data"
    },
    {
     "data": {
      "application/vnd.jupyter.widget-view+json": {
       "model_id": "8087eb79796f42928e95a563b7b7f412",
       "version_major": 2,
       "version_minor": 0
      },
      "text/plain": [
       "  0%|          | 0/3472 [00:00<?, ?it/s]"
      ]
     },
     "metadata": {},
     "output_type": "display_data"
    }
   ],
   "source": [
    "ratings = load_data()\n",
    "\n",
    "sparse_user_item, sparse_item_user = sparse_matrices(ratings)\n",
    "\n",
    "p_at_k, m_at_k = model()"
   ]
  },
  {
   "cell_type": "code",
   "execution_count": 32,
   "metadata": {
    "colab": {
     "base_uri": "https://localhost:8080/"
    },
    "id": "UGdEgWO0Y2jy",
    "outputId": "16b0ee47-1f72-4703-be7a-d669bbb6a56b"
   },
   "outputs": [
    {
     "data": {
      "text/plain": [
       "0.22586477451047282"
      ]
     },
     "execution_count": 32,
     "metadata": {},
     "output_type": "execute_result"
    }
   ],
   "source": [
    "p_at_k"
   ]
  },
  {
   "cell_type": "code",
   "execution_count": 33,
   "metadata": {
    "colab": {
     "base_uri": "https://localhost:8080/"
    },
    "id": "4cdXyhVUY4Ds",
    "outputId": "73adbd06-2963-47be-ab73-8db2002d4e5d"
   },
   "outputs": [
    {
     "data": {
      "text/plain": [
       "0.10707014455274344"
      ]
     },
     "execution_count": 33,
     "metadata": {},
     "output_type": "execute_result"
    }
   ],
   "source": [
    "m_at_k"
   ]
  },
  {
   "cell_type": "code",
   "execution_count": 34,
   "metadata": {
    "colab": {
     "base_uri": "https://localhost:8080/",
     "height": 197,
     "referenced_widgets": [
      "66a603b976f04c3fbf234a8611f28b86",
      "1b08b8c87b6a4a4984337451176cc4c9",
      "42442cc30ff74f9da5d2bea94ca06dce",
      "1e99e3f24af240488e10b4266c051b20",
      "bee8555c31fc4159b184c3d8a64528d3",
      "1fbbd48fa7dc4579bab240f55b59a356",
      "f82a781ecddc42a18a5794bb323eb5a4",
      "764b770b79cc4c8fa0c83ffa17c18bd6",
      "cc1a7c24e0c84a669e0f4b902192ed72",
      "d0301a0c538946189d09f1b3c5ef177e",
      "e49bd3eb6132490693a1d02ae997a951",
      "811ede11bb454c159aca0a159f4c26f3",
      "cc6c82ff2ef14f8a8a2325b6771fe4fb",
      "4449f2b428854681b7af166fc3001236",
      "1d9e9830908c476dbea767c0e6a507c1",
      "9cd735d670d845ac87f92372ad421c6b",
      "654871b3a8de419cb9dec15bfb82224f",
      "cdc4f16383314f0cb5f185d5d098d306",
      "78bdf3558235416486401d73cde68b0f",
      "78175769e41145cfabe6152f082a1cbf",
      "eafb0f463ad847508f05c1b821566b7d",
      "42e6af42a20944ef8c4078e07ede792a",
      "25007fad7dc94955bcf2979ff369b64a",
      "994e9c94b4a74114b40097160ceff606",
      "0bbaa7d720c341b2bca2563b4e5156e0",
      "f5c8f93ed5d64dbebcc69f4907afb1b6",
      "ef697734e2a5492c831a7d9ff1511bb9",
      "b12ed5127ea54ddabaa8a5f6b2961728",
      "e4c6555a54c648f79385b9fe39cdf598",
      "815e8dc4576a45afaa940cd554da81c3",
      "1c891cd4ce8c4c2b9a5882446a52e21b",
      "ca2095800a62426b87956e2c3f6e6327",
      "c71e0779641443ca896e52ebc7d8af5c",
      "c6f0780c7ed14c22b781301141a3aa8a",
      "400869c0841b4b489e40ff6dd41bf15c",
      "dc76eec17cdd4345ae1992f57131f002",
      "b5b6328d2c0e4d3bb6a438c6b0e1c993",
      "f52712d987e843f88ac75cd5f818cde4",
      "fd4e5bfa0f8a47f8971f23fe1e84117e",
      "a77b059a4b324ce7bec9df15364893ee",
      "b8a62a72256144f587513c3d331caee9",
      "799d069be3204092a9be1d3ccef0b957",
      "c231fd9594ce40a5be2c83417b4ab1aa",
      "ecdb0ebcdb404af69753f1de8cc8fd73"
     ]
    },
    "id": "pl3oyHO2ahwR",
    "outputId": "b8e38e16-ea9f-4cef-b75c-5fb2e8d904a8"
   },
   "outputs": [
    {
     "data": {
      "application/vnd.jupyter.widget-view+json": {
       "model_id": "d5f0694367d24c59bc07c0fdb2acf124",
       "version_major": 2,
       "version_minor": 0
      },
      "text/plain": [
       "0.00B [00:00, ?B/s]"
      ]
     },
     "metadata": {},
     "output_type": "display_data"
    },
    {
     "data": {
      "application/vnd.jupyter.widget-view+json": {
       "model_id": "61df4af7a598489fb70d33e9f56c622d",
       "version_major": 2,
       "version_minor": 0
      },
      "text/plain": [
       "  0%|          | 0/15 [00:00<?, ?it/s]"
      ]
     },
     "metadata": {},
     "output_type": "display_data"
    },
    {
     "data": {
      "application/vnd.jupyter.widget-view+json": {
       "model_id": "8b784a371aed485f94da1a98ba22c7dc",
       "version_major": 2,
       "version_minor": 0
      },
      "text/plain": [
       "  0%|          | 0/3461 [00:00<?, ?it/s]"
      ]
     },
     "metadata": {},
     "output_type": "display_data"
    },
    {
     "name": "stdout",
     "output_type": "stream",
     "text": [
      "precision at k is:  0.37779145720050616\n"
     ]
    },
    {
     "data": {
      "application/vnd.jupyter.widget-view+json": {
       "model_id": "434304ddb07f4f09a6dcfddc80392608",
       "version_major": 2,
       "version_minor": 0
      },
      "text/plain": [
       "  0%|          | 0/3461 [00:00<?, ?it/s]"
      ]
     },
     "metadata": {},
     "output_type": "display_data"
    },
    {
     "name": "stdout",
     "output_type": "stream",
     "text": [
      "mean average precision at k is:  0.23537373830769767\n"
     ]
    },
    {
     "data": {
      "application/vnd.jupyter.widget-view+json": {
       "model_id": "3aa96740bddd4e5bb8e40a2e32f5e3c8",
       "version_major": 2,
       "version_minor": 0
      },
      "text/plain": [
       "  0%|          | 0/3461 [00:00<?, ?it/s]"
      ]
     },
     "metadata": {},
     "output_type": "display_data"
    },
    {
     "name": "stdout",
     "output_type": "stream",
     "text": [
      "ndcg at k is:  0.3563855708733765\n"
     ]
    }
   ],
   "source": [
    "from implicit.evaluation import precision_at_k, mean_average_precision_at_k, ndcg_at_k, train_test_split\n",
    "from implicit.als import AlternatingLeastSquares\n",
    "from implicit.datasets.movielens import get_movielens\n",
    "\n",
    "movies, ratings = get_movielens(\"1m\")\n",
    "train, test = train_test_split(ratings)\n",
    "\n",
    "model = AlternatingLeastSquares(factors=128, regularization=20, iterations=15)\n",
    "model.fit(train)\n",
    "\n",
    "p = precision_at_k(model, train, test, K=10, num_threads=4)\n",
    "print('precision at k is: ', p)\n",
    "map = mean_average_precision_at_k(model, train, test, K=10, num_threads=4)\n",
    "print('mean average precision at k is: ', map)\n",
    "ndcg = ndcg_at_k(model, train, test, K=10, num_threads=4)\n",
    "print('ndcg at k is: ', ndcg)"
   ]
  },
  {
   "cell_type": "markdown",
   "metadata": {
    "id": "11Y5UvjjjpDZ"
   },
   "source": [
    "\"Precision at k\" corresponds to the number of relevant results among the top 10 retrieved documents), but fails to take into account the positions of the relevant documents among the top k\n",
    "\n",
    "\"MAP at k\" computes the mean of the Average Precision (AP) over all the users for a recommendation system.\n",
    "MAP rewards first-loaded relevant recommendations.\n",
    "\n",
    "However, the MAP@K metric has some shortcomings. The MAP@K metric focuses on precision – which of the recommended items are relevant and which are not. It does not take into account how relevant the recommended results are.\n",
    "\n",
    "NDCG@K (\"normalized discounted cumulative gain at k\"): while the earlier metrics look at just the presence of an item in the test set, these items might not all be as good, with some of them having higher observed values than others. NDCG aims at judging these values, but discounted according to the rank in the top-K list."
   ]
  },
  {
   "cell_type": "markdown",
   "metadata": {
    "id": "ULGTM37npKXB"
   },
   "source": [
    "What is Gain?\n",
    "\n",
    "Gain is just the relevance score for each item recommended.\n",
    "\n",
    "What is cumulative gain?\n",
    "\n",
    "Cumulative gain at K is the sum of gains of the first K items recommended.\n",
    "\n",
    "$$\n",
    "CG_{@K}=\\sum_{i=1}^K G_i\n",
    "$$\n",
    "\n",
    "Note that this still does not take into account the ordering of the items.\n",
    "\n",
    "What is discounted cumulative gain?\n",
    "\n",
    "Discounted cumulative gain weighs each relevance score based on its position. The recommendations at the top get a higher weight while the relevance of those at the bottom get a lower weight.\n",
    "\n",
    "$$\n",
    "DCG_{@K}=\\sum_{i=1}^K \\frac{G_i}{log_2 (i+1)}\n",
    "$$\n",
    "Note that the denominator is $log(i+1)$ giving more weightage to items recommended at the top.\n",
    "\n",
    "The DCG has one shortcoming: The score is dependent on the number of items recommended. If we have two recommenders that are recommending a different number of items, it is hard to compare the DCG score. The recommender with more items is likely to have a higher score.\n",
    "\n",
    "What is the NDCG Metric ?\n",
    "\n",
    "The normalized discounted cumulative gain is the DCG with a normalization factor in the denominator.\n"
   ]
  },
  {
   "cell_type": "code",
   "execution_count": null,
   "metadata": {},
   "outputs": [],
   "source": []
  }
 ],
 "metadata": {
  "colab": {
   "collapsed_sections": [],
   "name": "ML1M Dataset - Alternating Least Squares Matrix Factorization.ipynb",
   "provenance": [],
   "toc_visible": true
  },
  "kernelspec": {
   "display_name": "Python 3",
   "language": "python",
   "name": "python3"
  },
  "language_info": {
   "codemirror_mode": {
    "name": "ipython",
    "version": 3
   },
   "file_extension": ".py",
   "mimetype": "text/x-python",
   "name": "python",
   "nbconvert_exporter": "python",
   "pygments_lexer": "ipython3",
   "version": "3.6.15"
  },
  "widgets": {
   "application/vnd.jupyter.widget-state+json": {
    "09951e29abb84ff7849c35bfc30634b4": {
     "model_module": "@jupyter-widgets/controls",
     "model_module_version": "1.5.0",
     "model_name": "ProgressStyleModel",
     "state": {
      "_model_module": "@jupyter-widgets/controls",
      "_model_module_version": "1.5.0",
      "_model_name": "ProgressStyleModel",
      "_view_count": null,
      "_view_module": "@jupyter-widgets/base",
      "_view_module_version": "1.2.0",
      "_view_name": "StyleView",
      "bar_color": null,
      "description_width": ""
     }
    },
    "0bb1a4278dd342deb10bbebdbf5cf6c6": {
     "model_module": "@jupyter-widgets/controls",
     "model_module_version": "1.5.0",
     "model_name": "ProgressStyleModel",
     "state": {
      "_model_module": "@jupyter-widgets/controls",
      "_model_module_version": "1.5.0",
      "_model_name": "ProgressStyleModel",
      "_view_count": null,
      "_view_module": "@jupyter-widgets/base",
      "_view_module_version": "1.2.0",
      "_view_name": "StyleView",
      "bar_color": null,
      "description_width": ""
     }
    },
    "0bbaa7d720c341b2bca2563b4e5156e0": {
     "model_module": "@jupyter-widgets/controls",
     "model_module_version": "1.5.0",
     "model_name": "FloatProgressModel",
     "state": {
      "_dom_classes": [],
      "_model_module": "@jupyter-widgets/controls",
      "_model_module_version": "1.5.0",
      "_model_name": "FloatProgressModel",
      "_view_count": null,
      "_view_module": "@jupyter-widgets/controls",
      "_view_module_version": "1.5.0",
      "_view_name": "ProgressView",
      "bar_style": "success",
      "description": "",
      "description_tooltip": null,
      "layout": "IPY_MODEL_815e8dc4576a45afaa940cd554da81c3",
      "max": 3466,
      "min": 0,
      "orientation": "horizontal",
      "style": "IPY_MODEL_1c891cd4ce8c4c2b9a5882446a52e21b",
      "value": 3466
     }
    },
    "0d2c794d686f40fb81f0152794871215": {
     "model_module": "@jupyter-widgets/controls",
     "model_module_version": "1.5.0",
     "model_name": "HTMLModel",
     "state": {
      "_dom_classes": [],
      "_model_module": "@jupyter-widgets/controls",
      "_model_module_version": "1.5.0",
      "_model_name": "HTMLModel",
      "_view_count": null,
      "_view_module": "@jupyter-widgets/controls",
      "_view_module_version": "1.5.0",
      "_view_name": "HTMLView",
      "description": "",
      "description_tooltip": null,
      "layout": "IPY_MODEL_fc0f3894bb7a4f5a9b95d60853c3cc0d",
      "placeholder": "​",
      "style": "IPY_MODEL_e4242c2babaa4633aa97b8954043073e",
      "value": " 30/30 [01:32&lt;00:00,  2.76s/it]"
     }
    },
    "1b08b8c87b6a4a4984337451176cc4c9": {
     "model_module": "@jupyter-widgets/controls",
     "model_module_version": "1.5.0",
     "model_name": "HTMLModel",
     "state": {
      "_dom_classes": [],
      "_model_module": "@jupyter-widgets/controls",
      "_model_module_version": "1.5.0",
      "_model_name": "HTMLModel",
      "_view_count": null,
      "_view_module": "@jupyter-widgets/controls",
      "_view_module_version": "1.5.0",
      "_view_name": "HTMLView",
      "description": "",
      "description_tooltip": null,
      "layout": "IPY_MODEL_1fbbd48fa7dc4579bab240f55b59a356",
      "placeholder": "​",
      "style": "IPY_MODEL_f82a781ecddc42a18a5794bb323eb5a4",
      "value": "100%"
     }
    },
    "1c16d76a1a1b4953bf6d0a9686e90f30": {
     "model_module": "@jupyter-widgets/controls",
     "model_module_version": "1.5.0",
     "model_name": "DescriptionStyleModel",
     "state": {
      "_model_module": "@jupyter-widgets/controls",
      "_model_module_version": "1.5.0",
      "_model_name": "DescriptionStyleModel",
      "_view_count": null,
      "_view_module": "@jupyter-widgets/base",
      "_view_module_version": "1.2.0",
      "_view_name": "StyleView",
      "description_width": ""
     }
    },
    "1c891cd4ce8c4c2b9a5882446a52e21b": {
     "model_module": "@jupyter-widgets/controls",
     "model_module_version": "1.5.0",
     "model_name": "ProgressStyleModel",
     "state": {
      "_model_module": "@jupyter-widgets/controls",
      "_model_module_version": "1.5.0",
      "_model_name": "ProgressStyleModel",
      "_view_count": null,
      "_view_module": "@jupyter-widgets/base",
      "_view_module_version": "1.2.0",
      "_view_name": "StyleView",
      "bar_color": null,
      "description_width": ""
     }
    },
    "1d9e9830908c476dbea767c0e6a507c1": {
     "model_module": "@jupyter-widgets/controls",
     "model_module_version": "1.5.0",
     "model_name": "HTMLModel",
     "state": {
      "_dom_classes": [],
      "_model_module": "@jupyter-widgets/controls",
      "_model_module_version": "1.5.0",
      "_model_name": "HTMLModel",
      "_view_count": null,
      "_view_module": "@jupyter-widgets/controls",
      "_view_module_version": "1.5.0",
      "_view_name": "HTMLView",
      "description": "",
      "description_tooltip": null,
      "layout": "IPY_MODEL_eafb0f463ad847508f05c1b821566b7d",
      "placeholder": "​",
      "style": "IPY_MODEL_42e6af42a20944ef8c4078e07ede792a",
      "value": " 3466/3466 [00:01&lt;00:00, 3495.57it/s]"
     }
    },
    "1e0951ac829f4b7ea27a010f2ba920b1": {
     "model_module": "@jupyter-widgets/controls",
     "model_module_version": "1.5.0",
     "model_name": "HTMLModel",
     "state": {
      "_dom_classes": [],
      "_model_module": "@jupyter-widgets/controls",
      "_model_module_version": "1.5.0",
      "_model_name": "HTMLModel",
      "_view_count": null,
      "_view_module": "@jupyter-widgets/controls",
      "_view_module_version": "1.5.0",
      "_view_name": "HTMLView",
      "description": "",
      "description_tooltip": null,
      "layout": "IPY_MODEL_e40aee4e888b4485b923c062b969c56f",
      "placeholder": "​",
      "style": "IPY_MODEL_1c16d76a1a1b4953bf6d0a9686e90f30",
      "value": " 3472/3472 [00:00&lt;00:00, 3842.19it/s]"
     }
    },
    "1e99e3f24af240488e10b4266c051b20": {
     "model_module": "@jupyter-widgets/controls",
     "model_module_version": "1.5.0",
     "model_name": "HTMLModel",
     "state": {
      "_dom_classes": [],
      "_model_module": "@jupyter-widgets/controls",
      "_model_module_version": "1.5.0",
      "_model_name": "HTMLModel",
      "_view_count": null,
      "_view_module": "@jupyter-widgets/controls",
      "_view_module_version": "1.5.0",
      "_view_name": "HTMLView",
      "description": "",
      "description_tooltip": null,
      "layout": "IPY_MODEL_d0301a0c538946189d09f1b3c5ef177e",
      "placeholder": "​",
      "style": "IPY_MODEL_e49bd3eb6132490693a1d02ae997a951",
      "value": " 15/15 [00:41&lt;00:00,  2.37s/it]"
     }
    },
    "1fbbd48fa7dc4579bab240f55b59a356": {
     "model_module": "@jupyter-widgets/base",
     "model_module_version": "1.2.0",
     "model_name": "LayoutModel",
     "state": {
      "_model_module": "@jupyter-widgets/base",
      "_model_module_version": "1.2.0",
      "_model_name": "LayoutModel",
      "_view_count": null,
      "_view_module": "@jupyter-widgets/base",
      "_view_module_version": "1.2.0",
      "_view_name": "LayoutView",
      "align_content": null,
      "align_items": null,
      "align_self": null,
      "border": null,
      "bottom": null,
      "display": null,
      "flex": null,
      "flex_flow": null,
      "grid_area": null,
      "grid_auto_columns": null,
      "grid_auto_flow": null,
      "grid_auto_rows": null,
      "grid_column": null,
      "grid_gap": null,
      "grid_row": null,
      "grid_template_areas": null,
      "grid_template_columns": null,
      "grid_template_rows": null,
      "height": null,
      "justify_content": null,
      "justify_items": null,
      "left": null,
      "margin": null,
      "max_height": null,
      "max_width": null,
      "min_height": null,
      "min_width": null,
      "object_fit": null,
      "object_position": null,
      "order": null,
      "overflow": null,
      "overflow_x": null,
      "overflow_y": null,
      "padding": null,
      "right": null,
      "top": null,
      "visibility": null,
      "width": null
     }
    },
    "25007fad7dc94955bcf2979ff369b64a": {
     "model_module": "@jupyter-widgets/controls",
     "model_module_version": "1.5.0",
     "model_name": "HBoxModel",
     "state": {
      "_dom_classes": [],
      "_model_module": "@jupyter-widgets/controls",
      "_model_module_version": "1.5.0",
      "_model_name": "HBoxModel",
      "_view_count": null,
      "_view_module": "@jupyter-widgets/controls",
      "_view_module_version": "1.5.0",
      "_view_name": "HBoxView",
      "box_style": "",
      "children": [
       "IPY_MODEL_994e9c94b4a74114b40097160ceff606",
       "IPY_MODEL_0bbaa7d720c341b2bca2563b4e5156e0",
       "IPY_MODEL_f5c8f93ed5d64dbebcc69f4907afb1b6"
      ],
      "layout": "IPY_MODEL_ef697734e2a5492c831a7d9ff1511bb9"
     }
    },
    "2d62a3e6dee44ba89d7cfc9479f0e091": {
     "model_module": "@jupyter-widgets/base",
     "model_module_version": "1.2.0",
     "model_name": "LayoutModel",
     "state": {
      "_model_module": "@jupyter-widgets/base",
      "_model_module_version": "1.2.0",
      "_model_name": "LayoutModel",
      "_view_count": null,
      "_view_module": "@jupyter-widgets/base",
      "_view_module_version": "1.2.0",
      "_view_name": "LayoutView",
      "align_content": null,
      "align_items": null,
      "align_self": null,
      "border": null,
      "bottom": null,
      "display": null,
      "flex": null,
      "flex_flow": null,
      "grid_area": null,
      "grid_auto_columns": null,
      "grid_auto_flow": null,
      "grid_auto_rows": null,
      "grid_column": null,
      "grid_gap": null,
      "grid_row": null,
      "grid_template_areas": null,
      "grid_template_columns": null,
      "grid_template_rows": null,
      "height": null,
      "justify_content": null,
      "justify_items": null,
      "left": null,
      "margin": null,
      "max_height": null,
      "max_width": null,
      "min_height": null,
      "min_width": null,
      "object_fit": null,
      "object_position": null,
      "order": null,
      "overflow": null,
      "overflow_x": null,
      "overflow_y": null,
      "padding": null,
      "right": null,
      "top": null,
      "visibility": null,
      "width": null
     }
    },
    "2f537c3bc39b4dd692c1c1eaa59c508e": {
     "model_module": "@jupyter-widgets/controls",
     "model_module_version": "1.5.0",
     "model_name": "HTMLModel",
     "state": {
      "_dom_classes": [],
      "_model_module": "@jupyter-widgets/controls",
      "_model_module_version": "1.5.0",
      "_model_name": "HTMLModel",
      "_view_count": null,
      "_view_module": "@jupyter-widgets/controls",
      "_view_module_version": "1.5.0",
      "_view_name": "HTMLView",
      "description": "",
      "description_tooltip": null,
      "layout": "IPY_MODEL_bb639e3563e74bf5985214c4cf06155f",
      "placeholder": "​",
      "style": "IPY_MODEL_914799cec1364ccc932027c76f95b0a2",
      "value": "100%"
     }
    },
    "400869c0841b4b489e40ff6dd41bf15c": {
     "model_module": "@jupyter-widgets/controls",
     "model_module_version": "1.5.0",
     "model_name": "HTMLModel",
     "state": {
      "_dom_classes": [],
      "_model_module": "@jupyter-widgets/controls",
      "_model_module_version": "1.5.0",
      "_model_name": "HTMLModel",
      "_view_count": null,
      "_view_module": "@jupyter-widgets/controls",
      "_view_module_version": "1.5.0",
      "_view_name": "HTMLView",
      "description": "",
      "description_tooltip": null,
      "layout": "IPY_MODEL_fd4e5bfa0f8a47f8971f23fe1e84117e",
      "placeholder": "​",
      "style": "IPY_MODEL_a77b059a4b324ce7bec9df15364893ee",
      "value": "100%"
     }
    },
    "41dc73ba3f7e4b66bf471aba02f70ead": {
     "model_module": "@jupyter-widgets/controls",
     "model_module_version": "1.5.0",
     "model_name": "HBoxModel",
     "state": {
      "_dom_classes": [],
      "_model_module": "@jupyter-widgets/controls",
      "_model_module_version": "1.5.0",
      "_model_name": "HBoxModel",
      "_view_count": null,
      "_view_module": "@jupyter-widgets/controls",
      "_view_module_version": "1.5.0",
      "_view_name": "HBoxView",
      "box_style": "",
      "children": [
       "IPY_MODEL_6411ccaab07b4eae9140a5ab42277561",
       "IPY_MODEL_f668008b03454274bf79fdd55f36f547",
       "IPY_MODEL_0d2c794d686f40fb81f0152794871215"
      ],
      "layout": "IPY_MODEL_2d62a3e6dee44ba89d7cfc9479f0e091"
     }
    },
    "42442cc30ff74f9da5d2bea94ca06dce": {
     "model_module": "@jupyter-widgets/controls",
     "model_module_version": "1.5.0",
     "model_name": "FloatProgressModel",
     "state": {
      "_dom_classes": [],
      "_model_module": "@jupyter-widgets/controls",
      "_model_module_version": "1.5.0",
      "_model_name": "FloatProgressModel",
      "_view_count": null,
      "_view_module": "@jupyter-widgets/controls",
      "_view_module_version": "1.5.0",
      "_view_name": "ProgressView",
      "bar_style": "success",
      "description": "",
      "description_tooltip": null,
      "layout": "IPY_MODEL_764b770b79cc4c8fa0c83ffa17c18bd6",
      "max": 15,
      "min": 0,
      "orientation": "horizontal",
      "style": "IPY_MODEL_cc1a7c24e0c84a669e0f4b902192ed72",
      "value": 15
     }
    },
    "42cbbcb663234ec3a1dad03c2487f383": {
     "model_module": "@jupyter-widgets/controls",
     "model_module_version": "1.5.0",
     "model_name": "FloatProgressModel",
     "state": {
      "_dom_classes": [],
      "_model_module": "@jupyter-widgets/controls",
      "_model_module_version": "1.5.0",
      "_model_name": "FloatProgressModel",
      "_view_count": null,
      "_view_module": "@jupyter-widgets/controls",
      "_view_module_version": "1.5.0",
      "_view_name": "ProgressView",
      "bar_style": "success",
      "description": "",
      "description_tooltip": null,
      "layout": "IPY_MODEL_d6779d98821c496099d5460308ef0c81",
      "max": 3472,
      "min": 0,
      "orientation": "horizontal",
      "style": "IPY_MODEL_9d5a4b157fd2436c9385f5a91db5734d",
      "value": 3472
     }
    },
    "42e6af42a20944ef8c4078e07ede792a": {
     "model_module": "@jupyter-widgets/controls",
     "model_module_version": "1.5.0",
     "model_name": "DescriptionStyleModel",
     "state": {
      "_model_module": "@jupyter-widgets/controls",
      "_model_module_version": "1.5.0",
      "_model_name": "DescriptionStyleModel",
      "_view_count": null,
      "_view_module": "@jupyter-widgets/base",
      "_view_module_version": "1.2.0",
      "_view_name": "StyleView",
      "description_width": ""
     }
    },
    "4449f2b428854681b7af166fc3001236": {
     "model_module": "@jupyter-widgets/controls",
     "model_module_version": "1.5.0",
     "model_name": "FloatProgressModel",
     "state": {
      "_dom_classes": [],
      "_model_module": "@jupyter-widgets/controls",
      "_model_module_version": "1.5.0",
      "_model_name": "FloatProgressModel",
      "_view_count": null,
      "_view_module": "@jupyter-widgets/controls",
      "_view_module_version": "1.5.0",
      "_view_name": "ProgressView",
      "bar_style": "success",
      "description": "",
      "description_tooltip": null,
      "layout": "IPY_MODEL_78bdf3558235416486401d73cde68b0f",
      "max": 3466,
      "min": 0,
      "orientation": "horizontal",
      "style": "IPY_MODEL_78175769e41145cfabe6152f082a1cbf",
      "value": 3466
     }
    },
    "457d4f27ece947afa313a1176d97eb48": {
     "model_module": "@jupyter-widgets/controls",
     "model_module_version": "1.5.0",
     "model_name": "HBoxModel",
     "state": {
      "_dom_classes": [],
      "_model_module": "@jupyter-widgets/controls",
      "_model_module_version": "1.5.0",
      "_model_name": "HBoxModel",
      "_view_count": null,
      "_view_module": "@jupyter-widgets/controls",
      "_view_module_version": "1.5.0",
      "_view_name": "HBoxView",
      "box_style": "",
      "children": [
       "IPY_MODEL_2f537c3bc39b4dd692c1c1eaa59c508e",
       "IPY_MODEL_42cbbcb663234ec3a1dad03c2487f383",
       "IPY_MODEL_80c0c962fc7a41e48ee780bc28c2fcf6"
      ],
      "layout": "IPY_MODEL_91fba9bc1cc140c09e9ac195d655d1b3"
     }
    },
    "49cfb4afb6894a4db4e1ac5abb4a473e": {
     "model_module": "@jupyter-widgets/base",
     "model_module_version": "1.2.0",
     "model_name": "LayoutModel",
     "state": {
      "_model_module": "@jupyter-widgets/base",
      "_model_module_version": "1.2.0",
      "_model_name": "LayoutModel",
      "_view_count": null,
      "_view_module": "@jupyter-widgets/base",
      "_view_module_version": "1.2.0",
      "_view_name": "LayoutView",
      "align_content": null,
      "align_items": null,
      "align_self": null,
      "border": null,
      "bottom": null,
      "display": null,
      "flex": null,
      "flex_flow": null,
      "grid_area": null,
      "grid_auto_columns": null,
      "grid_auto_flow": null,
      "grid_auto_rows": null,
      "grid_column": null,
      "grid_gap": null,
      "grid_row": null,
      "grid_template_areas": null,
      "grid_template_columns": null,
      "grid_template_rows": null,
      "height": null,
      "justify_content": null,
      "justify_items": null,
      "left": null,
      "margin": null,
      "max_height": null,
      "max_width": null,
      "min_height": null,
      "min_width": null,
      "object_fit": null,
      "object_position": null,
      "order": null,
      "overflow": null,
      "overflow_x": null,
      "overflow_y": null,
      "padding": null,
      "right": null,
      "top": null,
      "visibility": null,
      "width": null
     }
    },
    "4c8a6c9e176444a69016a756f42d793d": {
     "model_module": "@jupyter-widgets/controls",
     "model_module_version": "1.5.0",
     "model_name": "DescriptionStyleModel",
     "state": {
      "_model_module": "@jupyter-widgets/controls",
      "_model_module_version": "1.5.0",
      "_model_name": "DescriptionStyleModel",
      "_view_count": null,
      "_view_module": "@jupyter-widgets/base",
      "_view_module_version": "1.2.0",
      "_view_name": "StyleView",
      "description_width": ""
     }
    },
    "6411ccaab07b4eae9140a5ab42277561": {
     "model_module": "@jupyter-widgets/controls",
     "model_module_version": "1.5.0",
     "model_name": "HTMLModel",
     "state": {
      "_dom_classes": [],
      "_model_module": "@jupyter-widgets/controls",
      "_model_module_version": "1.5.0",
      "_model_name": "HTMLModel",
      "_view_count": null,
      "_view_module": "@jupyter-widgets/controls",
      "_view_module_version": "1.5.0",
      "_view_name": "HTMLView",
      "description": "",
      "description_tooltip": null,
      "layout": "IPY_MODEL_d4d7d785861247f3b5f39d62e763b29e",
      "placeholder": "​",
      "style": "IPY_MODEL_7bdd6c4667e14c94aeb616826b38a051",
      "value": "100%"
     }
    },
    "654871b3a8de419cb9dec15bfb82224f": {
     "model_module": "@jupyter-widgets/base",
     "model_module_version": "1.2.0",
     "model_name": "LayoutModel",
     "state": {
      "_model_module": "@jupyter-widgets/base",
      "_model_module_version": "1.2.0",
      "_model_name": "LayoutModel",
      "_view_count": null,
      "_view_module": "@jupyter-widgets/base",
      "_view_module_version": "1.2.0",
      "_view_name": "LayoutView",
      "align_content": null,
      "align_items": null,
      "align_self": null,
      "border": null,
      "bottom": null,
      "display": null,
      "flex": null,
      "flex_flow": null,
      "grid_area": null,
      "grid_auto_columns": null,
      "grid_auto_flow": null,
      "grid_auto_rows": null,
      "grid_column": null,
      "grid_gap": null,
      "grid_row": null,
      "grid_template_areas": null,
      "grid_template_columns": null,
      "grid_template_rows": null,
      "height": null,
      "justify_content": null,
      "justify_items": null,
      "left": null,
      "margin": null,
      "max_height": null,
      "max_width": null,
      "min_height": null,
      "min_width": null,
      "object_fit": null,
      "object_position": null,
      "order": null,
      "overflow": null,
      "overflow_x": null,
      "overflow_y": null,
      "padding": null,
      "right": null,
      "top": null,
      "visibility": null,
      "width": null
     }
    },
    "66a603b976f04c3fbf234a8611f28b86": {
     "model_module": "@jupyter-widgets/controls",
     "model_module_version": "1.5.0",
     "model_name": "HBoxModel",
     "state": {
      "_dom_classes": [],
      "_model_module": "@jupyter-widgets/controls",
      "_model_module_version": "1.5.0",
      "_model_name": "HBoxModel",
      "_view_count": null,
      "_view_module": "@jupyter-widgets/controls",
      "_view_module_version": "1.5.0",
      "_view_name": "HBoxView",
      "box_style": "",
      "children": [
       "IPY_MODEL_1b08b8c87b6a4a4984337451176cc4c9",
       "IPY_MODEL_42442cc30ff74f9da5d2bea94ca06dce",
       "IPY_MODEL_1e99e3f24af240488e10b4266c051b20"
      ],
      "layout": "IPY_MODEL_bee8555c31fc4159b184c3d8a64528d3"
     }
    },
    "69bb96e7c2fa43d3a0155432bec728ff": {
     "model_module": "@jupyter-widgets/base",
     "model_module_version": "1.2.0",
     "model_name": "LayoutModel",
     "state": {
      "_model_module": "@jupyter-widgets/base",
      "_model_module_version": "1.2.0",
      "_model_name": "LayoutModel",
      "_view_count": null,
      "_view_module": "@jupyter-widgets/base",
      "_view_module_version": "1.2.0",
      "_view_name": "LayoutView",
      "align_content": null,
      "align_items": null,
      "align_self": null,
      "border": null,
      "bottom": null,
      "display": null,
      "flex": null,
      "flex_flow": null,
      "grid_area": null,
      "grid_auto_columns": null,
      "grid_auto_flow": null,
      "grid_auto_rows": null,
      "grid_column": null,
      "grid_gap": null,
      "grid_row": null,
      "grid_template_areas": null,
      "grid_template_columns": null,
      "grid_template_rows": null,
      "height": null,
      "justify_content": null,
      "justify_items": null,
      "left": null,
      "margin": null,
      "max_height": null,
      "max_width": null,
      "min_height": null,
      "min_width": null,
      "object_fit": null,
      "object_position": null,
      "order": null,
      "overflow": null,
      "overflow_x": null,
      "overflow_y": null,
      "padding": null,
      "right": null,
      "top": null,
      "visibility": null,
      "width": null
     }
    },
    "6b9d8ce5acf640a6929390916a9b1ca8": {
     "model_module": "@jupyter-widgets/controls",
     "model_module_version": "1.5.0",
     "model_name": "HTMLModel",
     "state": {
      "_dom_classes": [],
      "_model_module": "@jupyter-widgets/controls",
      "_model_module_version": "1.5.0",
      "_model_name": "HTMLModel",
      "_view_count": null,
      "_view_module": "@jupyter-widgets/controls",
      "_view_module_version": "1.5.0",
      "_view_name": "HTMLView",
      "description": "",
      "description_tooltip": null,
      "layout": "IPY_MODEL_6d1e9a89a27c41e5b740705d98b3de1f",
      "placeholder": "​",
      "style": "IPY_MODEL_d0ca7eaf8ee14d1db0cc021c6f113641",
      "value": "100%"
     }
    },
    "6d1e9a89a27c41e5b740705d98b3de1f": {
     "model_module": "@jupyter-widgets/base",
     "model_module_version": "1.2.0",
     "model_name": "LayoutModel",
     "state": {
      "_model_module": "@jupyter-widgets/base",
      "_model_module_version": "1.2.0",
      "_model_name": "LayoutModel",
      "_view_count": null,
      "_view_module": "@jupyter-widgets/base",
      "_view_module_version": "1.2.0",
      "_view_name": "LayoutView",
      "align_content": null,
      "align_items": null,
      "align_self": null,
      "border": null,
      "bottom": null,
      "display": null,
      "flex": null,
      "flex_flow": null,
      "grid_area": null,
      "grid_auto_columns": null,
      "grid_auto_flow": null,
      "grid_auto_rows": null,
      "grid_column": null,
      "grid_gap": null,
      "grid_row": null,
      "grid_template_areas": null,
      "grid_template_columns": null,
      "grid_template_rows": null,
      "height": null,
      "justify_content": null,
      "justify_items": null,
      "left": null,
      "margin": null,
      "max_height": null,
      "max_width": null,
      "min_height": null,
      "min_width": null,
      "object_fit": null,
      "object_position": null,
      "order": null,
      "overflow": null,
      "overflow_x": null,
      "overflow_y": null,
      "padding": null,
      "right": null,
      "top": null,
      "visibility": null,
      "width": null
     }
    },
    "764b770b79cc4c8fa0c83ffa17c18bd6": {
     "model_module": "@jupyter-widgets/base",
     "model_module_version": "1.2.0",
     "model_name": "LayoutModel",
     "state": {
      "_model_module": "@jupyter-widgets/base",
      "_model_module_version": "1.2.0",
      "_model_name": "LayoutModel",
      "_view_count": null,
      "_view_module": "@jupyter-widgets/base",
      "_view_module_version": "1.2.0",
      "_view_name": "LayoutView",
      "align_content": null,
      "align_items": null,
      "align_self": null,
      "border": null,
      "bottom": null,
      "display": null,
      "flex": null,
      "flex_flow": null,
      "grid_area": null,
      "grid_auto_columns": null,
      "grid_auto_flow": null,
      "grid_auto_rows": null,
      "grid_column": null,
      "grid_gap": null,
      "grid_row": null,
      "grid_template_areas": null,
      "grid_template_columns": null,
      "grid_template_rows": null,
      "height": null,
      "justify_content": null,
      "justify_items": null,
      "left": null,
      "margin": null,
      "max_height": null,
      "max_width": null,
      "min_height": null,
      "min_width": null,
      "object_fit": null,
      "object_position": null,
      "order": null,
      "overflow": null,
      "overflow_x": null,
      "overflow_y": null,
      "padding": null,
      "right": null,
      "top": null,
      "visibility": null,
      "width": null
     }
    },
    "78175769e41145cfabe6152f082a1cbf": {
     "model_module": "@jupyter-widgets/controls",
     "model_module_version": "1.5.0",
     "model_name": "ProgressStyleModel",
     "state": {
      "_model_module": "@jupyter-widgets/controls",
      "_model_module_version": "1.5.0",
      "_model_name": "ProgressStyleModel",
      "_view_count": null,
      "_view_module": "@jupyter-widgets/base",
      "_view_module_version": "1.2.0",
      "_view_name": "StyleView",
      "bar_color": null,
      "description_width": ""
     }
    },
    "78bdf3558235416486401d73cde68b0f": {
     "model_module": "@jupyter-widgets/base",
     "model_module_version": "1.2.0",
     "model_name": "LayoutModel",
     "state": {
      "_model_module": "@jupyter-widgets/base",
      "_model_module_version": "1.2.0",
      "_model_name": "LayoutModel",
      "_view_count": null,
      "_view_module": "@jupyter-widgets/base",
      "_view_module_version": "1.2.0",
      "_view_name": "LayoutView",
      "align_content": null,
      "align_items": null,
      "align_self": null,
      "border": null,
      "bottom": null,
      "display": null,
      "flex": null,
      "flex_flow": null,
      "grid_area": null,
      "grid_auto_columns": null,
      "grid_auto_flow": null,
      "grid_auto_rows": null,
      "grid_column": null,
      "grid_gap": null,
      "grid_row": null,
      "grid_template_areas": null,
      "grid_template_columns": null,
      "grid_template_rows": null,
      "height": null,
      "justify_content": null,
      "justify_items": null,
      "left": null,
      "margin": null,
      "max_height": null,
      "max_width": null,
      "min_height": null,
      "min_width": null,
      "object_fit": null,
      "object_position": null,
      "order": null,
      "overflow": null,
      "overflow_x": null,
      "overflow_y": null,
      "padding": null,
      "right": null,
      "top": null,
      "visibility": null,
      "width": null
     }
    },
    "799d069be3204092a9be1d3ccef0b957": {
     "model_module": "@jupyter-widgets/controls",
     "model_module_version": "1.5.0",
     "model_name": "ProgressStyleModel",
     "state": {
      "_model_module": "@jupyter-widgets/controls",
      "_model_module_version": "1.5.0",
      "_model_name": "ProgressStyleModel",
      "_view_count": null,
      "_view_module": "@jupyter-widgets/base",
      "_view_module_version": "1.2.0",
      "_view_name": "StyleView",
      "bar_color": null,
      "description_width": ""
     }
    },
    "7bdd6c4667e14c94aeb616826b38a051": {
     "model_module": "@jupyter-widgets/controls",
     "model_module_version": "1.5.0",
     "model_name": "DescriptionStyleModel",
     "state": {
      "_model_module": "@jupyter-widgets/controls",
      "_model_module_version": "1.5.0",
      "_model_name": "DescriptionStyleModel",
      "_view_count": null,
      "_view_module": "@jupyter-widgets/base",
      "_view_module_version": "1.2.0",
      "_view_name": "StyleView",
      "description_width": ""
     }
    },
    "80c0c962fc7a41e48ee780bc28c2fcf6": {
     "model_module": "@jupyter-widgets/controls",
     "model_module_version": "1.5.0",
     "model_name": "HTMLModel",
     "state": {
      "_dom_classes": [],
      "_model_module": "@jupyter-widgets/controls",
      "_model_module_version": "1.5.0",
      "_model_name": "HTMLModel",
      "_view_count": null,
      "_view_module": "@jupyter-widgets/controls",
      "_view_module_version": "1.5.0",
      "_view_name": "HTMLView",
      "description": "",
      "description_tooltip": null,
      "layout": "IPY_MODEL_f8c50cfecdab427aa7990ef2c7921233",
      "placeholder": "​",
      "style": "IPY_MODEL_4c8a6c9e176444a69016a756f42d793d",
      "value": " 3472/3472 [00:00&lt;00:00, 3915.25it/s]"
     }
    },
    "811ede11bb454c159aca0a159f4c26f3": {
     "model_module": "@jupyter-widgets/controls",
     "model_module_version": "1.5.0",
     "model_name": "HBoxModel",
     "state": {
      "_dom_classes": [],
      "_model_module": "@jupyter-widgets/controls",
      "_model_module_version": "1.5.0",
      "_model_name": "HBoxModel",
      "_view_count": null,
      "_view_module": "@jupyter-widgets/controls",
      "_view_module_version": "1.5.0",
      "_view_name": "HBoxView",
      "box_style": "",
      "children": [
       "IPY_MODEL_cc6c82ff2ef14f8a8a2325b6771fe4fb",
       "IPY_MODEL_4449f2b428854681b7af166fc3001236",
       "IPY_MODEL_1d9e9830908c476dbea767c0e6a507c1"
      ],
      "layout": "IPY_MODEL_9cd735d670d845ac87f92372ad421c6b"
     }
    },
    "815e8dc4576a45afaa940cd554da81c3": {
     "model_module": "@jupyter-widgets/base",
     "model_module_version": "1.2.0",
     "model_name": "LayoutModel",
     "state": {
      "_model_module": "@jupyter-widgets/base",
      "_model_module_version": "1.2.0",
      "_model_name": "LayoutModel",
      "_view_count": null,
      "_view_module": "@jupyter-widgets/base",
      "_view_module_version": "1.2.0",
      "_view_name": "LayoutView",
      "align_content": null,
      "align_items": null,
      "align_self": null,
      "border": null,
      "bottom": null,
      "display": null,
      "flex": null,
      "flex_flow": null,
      "grid_area": null,
      "grid_auto_columns": null,
      "grid_auto_flow": null,
      "grid_auto_rows": null,
      "grid_column": null,
      "grid_gap": null,
      "grid_row": null,
      "grid_template_areas": null,
      "grid_template_columns": null,
      "grid_template_rows": null,
      "height": null,
      "justify_content": null,
      "justify_items": null,
      "left": null,
      "margin": null,
      "max_height": null,
      "max_width": null,
      "min_height": null,
      "min_width": null,
      "object_fit": null,
      "object_position": null,
      "order": null,
      "overflow": null,
      "overflow_x": null,
      "overflow_y": null,
      "padding": null,
      "right": null,
      "top": null,
      "visibility": null,
      "width": null
     }
    },
    "8be50582d6cd4037a9e61f385145d8d9": {
     "model_module": "@jupyter-widgets/controls",
     "model_module_version": "1.5.0",
     "model_name": "FloatProgressModel",
     "state": {
      "_dom_classes": [],
      "_model_module": "@jupyter-widgets/controls",
      "_model_module_version": "1.5.0",
      "_model_name": "FloatProgressModel",
      "_view_count": null,
      "_view_module": "@jupyter-widgets/controls",
      "_view_module_version": "1.5.0",
      "_view_name": "ProgressView",
      "bar_style": "success",
      "description": "",
      "description_tooltip": null,
      "layout": "IPY_MODEL_e10ad8d9a0c24273928da09b59343dc3",
      "max": 3472,
      "min": 0,
      "orientation": "horizontal",
      "style": "IPY_MODEL_09951e29abb84ff7849c35bfc30634b4",
      "value": 3472
     }
    },
    "914799cec1364ccc932027c76f95b0a2": {
     "model_module": "@jupyter-widgets/controls",
     "model_module_version": "1.5.0",
     "model_name": "DescriptionStyleModel",
     "state": {
      "_model_module": "@jupyter-widgets/controls",
      "_model_module_version": "1.5.0",
      "_model_name": "DescriptionStyleModel",
      "_view_count": null,
      "_view_module": "@jupyter-widgets/base",
      "_view_module_version": "1.2.0",
      "_view_name": "StyleView",
      "description_width": ""
     }
    },
    "91fba9bc1cc140c09e9ac195d655d1b3": {
     "model_module": "@jupyter-widgets/base",
     "model_module_version": "1.2.0",
     "model_name": "LayoutModel",
     "state": {
      "_model_module": "@jupyter-widgets/base",
      "_model_module_version": "1.2.0",
      "_model_name": "LayoutModel",
      "_view_count": null,
      "_view_module": "@jupyter-widgets/base",
      "_view_module_version": "1.2.0",
      "_view_name": "LayoutView",
      "align_content": null,
      "align_items": null,
      "align_self": null,
      "border": null,
      "bottom": null,
      "display": null,
      "flex": null,
      "flex_flow": null,
      "grid_area": null,
      "grid_auto_columns": null,
      "grid_auto_flow": null,
      "grid_auto_rows": null,
      "grid_column": null,
      "grid_gap": null,
      "grid_row": null,
      "grid_template_areas": null,
      "grid_template_columns": null,
      "grid_template_rows": null,
      "height": null,
      "justify_content": null,
      "justify_items": null,
      "left": null,
      "margin": null,
      "max_height": null,
      "max_width": null,
      "min_height": null,
      "min_width": null,
      "object_fit": null,
      "object_position": null,
      "order": null,
      "overflow": null,
      "overflow_x": null,
      "overflow_y": null,
      "padding": null,
      "right": null,
      "top": null,
      "visibility": null,
      "width": null
     }
    },
    "93bf20f3c6e9485ea800aa2401140476": {
     "model_module": "@jupyter-widgets/controls",
     "model_module_version": "1.5.0",
     "model_name": "HBoxModel",
     "state": {
      "_dom_classes": [],
      "_model_module": "@jupyter-widgets/controls",
      "_model_module_version": "1.5.0",
      "_model_name": "HBoxModel",
      "_view_count": null,
      "_view_module": "@jupyter-widgets/controls",
      "_view_module_version": "1.5.0",
      "_view_name": "HBoxView",
      "box_style": "",
      "children": [
       "IPY_MODEL_6b9d8ce5acf640a6929390916a9b1ca8",
       "IPY_MODEL_8be50582d6cd4037a9e61f385145d8d9",
       "IPY_MODEL_1e0951ac829f4b7ea27a010f2ba920b1"
      ],
      "layout": "IPY_MODEL_49cfb4afb6894a4db4e1ac5abb4a473e"
     }
    },
    "994e9c94b4a74114b40097160ceff606": {
     "model_module": "@jupyter-widgets/controls",
     "model_module_version": "1.5.0",
     "model_name": "HTMLModel",
     "state": {
      "_dom_classes": [],
      "_model_module": "@jupyter-widgets/controls",
      "_model_module_version": "1.5.0",
      "_model_name": "HTMLModel",
      "_view_count": null,
      "_view_module": "@jupyter-widgets/controls",
      "_view_module_version": "1.5.0",
      "_view_name": "HTMLView",
      "description": "",
      "description_tooltip": null,
      "layout": "IPY_MODEL_b12ed5127ea54ddabaa8a5f6b2961728",
      "placeholder": "​",
      "style": "IPY_MODEL_e4c6555a54c648f79385b9fe39cdf598",
      "value": "100%"
     }
    },
    "9cd735d670d845ac87f92372ad421c6b": {
     "model_module": "@jupyter-widgets/base",
     "model_module_version": "1.2.0",
     "model_name": "LayoutModel",
     "state": {
      "_model_module": "@jupyter-widgets/base",
      "_model_module_version": "1.2.0",
      "_model_name": "LayoutModel",
      "_view_count": null,
      "_view_module": "@jupyter-widgets/base",
      "_view_module_version": "1.2.0",
      "_view_name": "LayoutView",
      "align_content": null,
      "align_items": null,
      "align_self": null,
      "border": null,
      "bottom": null,
      "display": null,
      "flex": null,
      "flex_flow": null,
      "grid_area": null,
      "grid_auto_columns": null,
      "grid_auto_flow": null,
      "grid_auto_rows": null,
      "grid_column": null,
      "grid_gap": null,
      "grid_row": null,
      "grid_template_areas": null,
      "grid_template_columns": null,
      "grid_template_rows": null,
      "height": null,
      "justify_content": null,
      "justify_items": null,
      "left": null,
      "margin": null,
      "max_height": null,
      "max_width": null,
      "min_height": null,
      "min_width": null,
      "object_fit": null,
      "object_position": null,
      "order": null,
      "overflow": null,
      "overflow_x": null,
      "overflow_y": null,
      "padding": null,
      "right": null,
      "top": null,
      "visibility": null,
      "width": null
     }
    },
    "9d5a4b157fd2436c9385f5a91db5734d": {
     "model_module": "@jupyter-widgets/controls",
     "model_module_version": "1.5.0",
     "model_name": "ProgressStyleModel",
     "state": {
      "_model_module": "@jupyter-widgets/controls",
      "_model_module_version": "1.5.0",
      "_model_name": "ProgressStyleModel",
      "_view_count": null,
      "_view_module": "@jupyter-widgets/base",
      "_view_module_version": "1.2.0",
      "_view_name": "StyleView",
      "bar_color": null,
      "description_width": ""
     }
    },
    "a77b059a4b324ce7bec9df15364893ee": {
     "model_module": "@jupyter-widgets/controls",
     "model_module_version": "1.5.0",
     "model_name": "DescriptionStyleModel",
     "state": {
      "_model_module": "@jupyter-widgets/controls",
      "_model_module_version": "1.5.0",
      "_model_name": "DescriptionStyleModel",
      "_view_count": null,
      "_view_module": "@jupyter-widgets/base",
      "_view_module_version": "1.2.0",
      "_view_name": "StyleView",
      "description_width": ""
     }
    },
    "b12ed5127ea54ddabaa8a5f6b2961728": {
     "model_module": "@jupyter-widgets/base",
     "model_module_version": "1.2.0",
     "model_name": "LayoutModel",
     "state": {
      "_model_module": "@jupyter-widgets/base",
      "_model_module_version": "1.2.0",
      "_model_name": "LayoutModel",
      "_view_count": null,
      "_view_module": "@jupyter-widgets/base",
      "_view_module_version": "1.2.0",
      "_view_name": "LayoutView",
      "align_content": null,
      "align_items": null,
      "align_self": null,
      "border": null,
      "bottom": null,
      "display": null,
      "flex": null,
      "flex_flow": null,
      "grid_area": null,
      "grid_auto_columns": null,
      "grid_auto_flow": null,
      "grid_auto_rows": null,
      "grid_column": null,
      "grid_gap": null,
      "grid_row": null,
      "grid_template_areas": null,
      "grid_template_columns": null,
      "grid_template_rows": null,
      "height": null,
      "justify_content": null,
      "justify_items": null,
      "left": null,
      "margin": null,
      "max_height": null,
      "max_width": null,
      "min_height": null,
      "min_width": null,
      "object_fit": null,
      "object_position": null,
      "order": null,
      "overflow": null,
      "overflow_x": null,
      "overflow_y": null,
      "padding": null,
      "right": null,
      "top": null,
      "visibility": null,
      "width": null
     }
    },
    "b5b6328d2c0e4d3bb6a438c6b0e1c993": {
     "model_module": "@jupyter-widgets/controls",
     "model_module_version": "1.5.0",
     "model_name": "HTMLModel",
     "state": {
      "_dom_classes": [],
      "_model_module": "@jupyter-widgets/controls",
      "_model_module_version": "1.5.0",
      "_model_name": "HTMLModel",
      "_view_count": null,
      "_view_module": "@jupyter-widgets/controls",
      "_view_module_version": "1.5.0",
      "_view_name": "HTMLView",
      "description": "",
      "description_tooltip": null,
      "layout": "IPY_MODEL_c231fd9594ce40a5be2c83417b4ab1aa",
      "placeholder": "​",
      "style": "IPY_MODEL_ecdb0ebcdb404af69753f1de8cc8fd73",
      "value": " 3466/3466 [00:01&lt;00:00, 3402.56it/s]"
     }
    },
    "b8a62a72256144f587513c3d331caee9": {
     "model_module": "@jupyter-widgets/base",
     "model_module_version": "1.2.0",
     "model_name": "LayoutModel",
     "state": {
      "_model_module": "@jupyter-widgets/base",
      "_model_module_version": "1.2.0",
      "_model_name": "LayoutModel",
      "_view_count": null,
      "_view_module": "@jupyter-widgets/base",
      "_view_module_version": "1.2.0",
      "_view_name": "LayoutView",
      "align_content": null,
      "align_items": null,
      "align_self": null,
      "border": null,
      "bottom": null,
      "display": null,
      "flex": null,
      "flex_flow": null,
      "grid_area": null,
      "grid_auto_columns": null,
      "grid_auto_flow": null,
      "grid_auto_rows": null,
      "grid_column": null,
      "grid_gap": null,
      "grid_row": null,
      "grid_template_areas": null,
      "grid_template_columns": null,
      "grid_template_rows": null,
      "height": null,
      "justify_content": null,
      "justify_items": null,
      "left": null,
      "margin": null,
      "max_height": null,
      "max_width": null,
      "min_height": null,
      "min_width": null,
      "object_fit": null,
      "object_position": null,
      "order": null,
      "overflow": null,
      "overflow_x": null,
      "overflow_y": null,
      "padding": null,
      "right": null,
      "top": null,
      "visibility": null,
      "width": null
     }
    },
    "bb639e3563e74bf5985214c4cf06155f": {
     "model_module": "@jupyter-widgets/base",
     "model_module_version": "1.2.0",
     "model_name": "LayoutModel",
     "state": {
      "_model_module": "@jupyter-widgets/base",
      "_model_module_version": "1.2.0",
      "_model_name": "LayoutModel",
      "_view_count": null,
      "_view_module": "@jupyter-widgets/base",
      "_view_module_version": "1.2.0",
      "_view_name": "LayoutView",
      "align_content": null,
      "align_items": null,
      "align_self": null,
      "border": null,
      "bottom": null,
      "display": null,
      "flex": null,
      "flex_flow": null,
      "grid_area": null,
      "grid_auto_columns": null,
      "grid_auto_flow": null,
      "grid_auto_rows": null,
      "grid_column": null,
      "grid_gap": null,
      "grid_row": null,
      "grid_template_areas": null,
      "grid_template_columns": null,
      "grid_template_rows": null,
      "height": null,
      "justify_content": null,
      "justify_items": null,
      "left": null,
      "margin": null,
      "max_height": null,
      "max_width": null,
      "min_height": null,
      "min_width": null,
      "object_fit": null,
      "object_position": null,
      "order": null,
      "overflow": null,
      "overflow_x": null,
      "overflow_y": null,
      "padding": null,
      "right": null,
      "top": null,
      "visibility": null,
      "width": null
     }
    },
    "bee8555c31fc4159b184c3d8a64528d3": {
     "model_module": "@jupyter-widgets/base",
     "model_module_version": "1.2.0",
     "model_name": "LayoutModel",
     "state": {
      "_model_module": "@jupyter-widgets/base",
      "_model_module_version": "1.2.0",
      "_model_name": "LayoutModel",
      "_view_count": null,
      "_view_module": "@jupyter-widgets/base",
      "_view_module_version": "1.2.0",
      "_view_name": "LayoutView",
      "align_content": null,
      "align_items": null,
      "align_self": null,
      "border": null,
      "bottom": null,
      "display": null,
      "flex": null,
      "flex_flow": null,
      "grid_area": null,
      "grid_auto_columns": null,
      "grid_auto_flow": null,
      "grid_auto_rows": null,
      "grid_column": null,
      "grid_gap": null,
      "grid_row": null,
      "grid_template_areas": null,
      "grid_template_columns": null,
      "grid_template_rows": null,
      "height": null,
      "justify_content": null,
      "justify_items": null,
      "left": null,
      "margin": null,
      "max_height": null,
      "max_width": null,
      "min_height": null,
      "min_width": null,
      "object_fit": null,
      "object_position": null,
      "order": null,
      "overflow": null,
      "overflow_x": null,
      "overflow_y": null,
      "padding": null,
      "right": null,
      "top": null,
      "visibility": null,
      "width": null
     }
    },
    "c231fd9594ce40a5be2c83417b4ab1aa": {
     "model_module": "@jupyter-widgets/base",
     "model_module_version": "1.2.0",
     "model_name": "LayoutModel",
     "state": {
      "_model_module": "@jupyter-widgets/base",
      "_model_module_version": "1.2.0",
      "_model_name": "LayoutModel",
      "_view_count": null,
      "_view_module": "@jupyter-widgets/base",
      "_view_module_version": "1.2.0",
      "_view_name": "LayoutView",
      "align_content": null,
      "align_items": null,
      "align_self": null,
      "border": null,
      "bottom": null,
      "display": null,
      "flex": null,
      "flex_flow": null,
      "grid_area": null,
      "grid_auto_columns": null,
      "grid_auto_flow": null,
      "grid_auto_rows": null,
      "grid_column": null,
      "grid_gap": null,
      "grid_row": null,
      "grid_template_areas": null,
      "grid_template_columns": null,
      "grid_template_rows": null,
      "height": null,
      "justify_content": null,
      "justify_items": null,
      "left": null,
      "margin": null,
      "max_height": null,
      "max_width": null,
      "min_height": null,
      "min_width": null,
      "object_fit": null,
      "object_position": null,
      "order": null,
      "overflow": null,
      "overflow_x": null,
      "overflow_y": null,
      "padding": null,
      "right": null,
      "top": null,
      "visibility": null,
      "width": null
     }
    },
    "c6f0780c7ed14c22b781301141a3aa8a": {
     "model_module": "@jupyter-widgets/controls",
     "model_module_version": "1.5.0",
     "model_name": "HBoxModel",
     "state": {
      "_dom_classes": [],
      "_model_module": "@jupyter-widgets/controls",
      "_model_module_version": "1.5.0",
      "_model_name": "HBoxModel",
      "_view_count": null,
      "_view_module": "@jupyter-widgets/controls",
      "_view_module_version": "1.5.0",
      "_view_name": "HBoxView",
      "box_style": "",
      "children": [
       "IPY_MODEL_400869c0841b4b489e40ff6dd41bf15c",
       "IPY_MODEL_dc76eec17cdd4345ae1992f57131f002",
       "IPY_MODEL_b5b6328d2c0e4d3bb6a438c6b0e1c993"
      ],
      "layout": "IPY_MODEL_f52712d987e843f88ac75cd5f818cde4"
     }
    },
    "c71e0779641443ca896e52ebc7d8af5c": {
     "model_module": "@jupyter-widgets/controls",
     "model_module_version": "1.5.0",
     "model_name": "DescriptionStyleModel",
     "state": {
      "_model_module": "@jupyter-widgets/controls",
      "_model_module_version": "1.5.0",
      "_model_name": "DescriptionStyleModel",
      "_view_count": null,
      "_view_module": "@jupyter-widgets/base",
      "_view_module_version": "1.2.0",
      "_view_name": "StyleView",
      "description_width": ""
     }
    },
    "ca2095800a62426b87956e2c3f6e6327": {
     "model_module": "@jupyter-widgets/base",
     "model_module_version": "1.2.0",
     "model_name": "LayoutModel",
     "state": {
      "_model_module": "@jupyter-widgets/base",
      "_model_module_version": "1.2.0",
      "_model_name": "LayoutModel",
      "_view_count": null,
      "_view_module": "@jupyter-widgets/base",
      "_view_module_version": "1.2.0",
      "_view_name": "LayoutView",
      "align_content": null,
      "align_items": null,
      "align_self": null,
      "border": null,
      "bottom": null,
      "display": null,
      "flex": null,
      "flex_flow": null,
      "grid_area": null,
      "grid_auto_columns": null,
      "grid_auto_flow": null,
      "grid_auto_rows": null,
      "grid_column": null,
      "grid_gap": null,
      "grid_row": null,
      "grid_template_areas": null,
      "grid_template_columns": null,
      "grid_template_rows": null,
      "height": null,
      "justify_content": null,
      "justify_items": null,
      "left": null,
      "margin": null,
      "max_height": null,
      "max_width": null,
      "min_height": null,
      "min_width": null,
      "object_fit": null,
      "object_position": null,
      "order": null,
      "overflow": null,
      "overflow_x": null,
      "overflow_y": null,
      "padding": null,
      "right": null,
      "top": null,
      "visibility": null,
      "width": null
     }
    },
    "cc1a7c24e0c84a669e0f4b902192ed72": {
     "model_module": "@jupyter-widgets/controls",
     "model_module_version": "1.5.0",
     "model_name": "ProgressStyleModel",
     "state": {
      "_model_module": "@jupyter-widgets/controls",
      "_model_module_version": "1.5.0",
      "_model_name": "ProgressStyleModel",
      "_view_count": null,
      "_view_module": "@jupyter-widgets/base",
      "_view_module_version": "1.2.0",
      "_view_name": "StyleView",
      "bar_color": null,
      "description_width": ""
     }
    },
    "cc6c82ff2ef14f8a8a2325b6771fe4fb": {
     "model_module": "@jupyter-widgets/controls",
     "model_module_version": "1.5.0",
     "model_name": "HTMLModel",
     "state": {
      "_dom_classes": [],
      "_model_module": "@jupyter-widgets/controls",
      "_model_module_version": "1.5.0",
      "_model_name": "HTMLModel",
      "_view_count": null,
      "_view_module": "@jupyter-widgets/controls",
      "_view_module_version": "1.5.0",
      "_view_name": "HTMLView",
      "description": "",
      "description_tooltip": null,
      "layout": "IPY_MODEL_654871b3a8de419cb9dec15bfb82224f",
      "placeholder": "​",
      "style": "IPY_MODEL_cdc4f16383314f0cb5f185d5d098d306",
      "value": "100%"
     }
    },
    "cdc4f16383314f0cb5f185d5d098d306": {
     "model_module": "@jupyter-widgets/controls",
     "model_module_version": "1.5.0",
     "model_name": "DescriptionStyleModel",
     "state": {
      "_model_module": "@jupyter-widgets/controls",
      "_model_module_version": "1.5.0",
      "_model_name": "DescriptionStyleModel",
      "_view_count": null,
      "_view_module": "@jupyter-widgets/base",
      "_view_module_version": "1.2.0",
      "_view_name": "StyleView",
      "description_width": ""
     }
    },
    "d0301a0c538946189d09f1b3c5ef177e": {
     "model_module": "@jupyter-widgets/base",
     "model_module_version": "1.2.0",
     "model_name": "LayoutModel",
     "state": {
      "_model_module": "@jupyter-widgets/base",
      "_model_module_version": "1.2.0",
      "_model_name": "LayoutModel",
      "_view_count": null,
      "_view_module": "@jupyter-widgets/base",
      "_view_module_version": "1.2.0",
      "_view_name": "LayoutView",
      "align_content": null,
      "align_items": null,
      "align_self": null,
      "border": null,
      "bottom": null,
      "display": null,
      "flex": null,
      "flex_flow": null,
      "grid_area": null,
      "grid_auto_columns": null,
      "grid_auto_flow": null,
      "grid_auto_rows": null,
      "grid_column": null,
      "grid_gap": null,
      "grid_row": null,
      "grid_template_areas": null,
      "grid_template_columns": null,
      "grid_template_rows": null,
      "height": null,
      "justify_content": null,
      "justify_items": null,
      "left": null,
      "margin": null,
      "max_height": null,
      "max_width": null,
      "min_height": null,
      "min_width": null,
      "object_fit": null,
      "object_position": null,
      "order": null,
      "overflow": null,
      "overflow_x": null,
      "overflow_y": null,
      "padding": null,
      "right": null,
      "top": null,
      "visibility": null,
      "width": null
     }
    },
    "d0ca7eaf8ee14d1db0cc021c6f113641": {
     "model_module": "@jupyter-widgets/controls",
     "model_module_version": "1.5.0",
     "model_name": "DescriptionStyleModel",
     "state": {
      "_model_module": "@jupyter-widgets/controls",
      "_model_module_version": "1.5.0",
      "_model_name": "DescriptionStyleModel",
      "_view_count": null,
      "_view_module": "@jupyter-widgets/base",
      "_view_module_version": "1.2.0",
      "_view_name": "StyleView",
      "description_width": ""
     }
    },
    "d4d7d785861247f3b5f39d62e763b29e": {
     "model_module": "@jupyter-widgets/base",
     "model_module_version": "1.2.0",
     "model_name": "LayoutModel",
     "state": {
      "_model_module": "@jupyter-widgets/base",
      "_model_module_version": "1.2.0",
      "_model_name": "LayoutModel",
      "_view_count": null,
      "_view_module": "@jupyter-widgets/base",
      "_view_module_version": "1.2.0",
      "_view_name": "LayoutView",
      "align_content": null,
      "align_items": null,
      "align_self": null,
      "border": null,
      "bottom": null,
      "display": null,
      "flex": null,
      "flex_flow": null,
      "grid_area": null,
      "grid_auto_columns": null,
      "grid_auto_flow": null,
      "grid_auto_rows": null,
      "grid_column": null,
      "grid_gap": null,
      "grid_row": null,
      "grid_template_areas": null,
      "grid_template_columns": null,
      "grid_template_rows": null,
      "height": null,
      "justify_content": null,
      "justify_items": null,
      "left": null,
      "margin": null,
      "max_height": null,
      "max_width": null,
      "min_height": null,
      "min_width": null,
      "object_fit": null,
      "object_position": null,
      "order": null,
      "overflow": null,
      "overflow_x": null,
      "overflow_y": null,
      "padding": null,
      "right": null,
      "top": null,
      "visibility": null,
      "width": null
     }
    },
    "d6779d98821c496099d5460308ef0c81": {
     "model_module": "@jupyter-widgets/base",
     "model_module_version": "1.2.0",
     "model_name": "LayoutModel",
     "state": {
      "_model_module": "@jupyter-widgets/base",
      "_model_module_version": "1.2.0",
      "_model_name": "LayoutModel",
      "_view_count": null,
      "_view_module": "@jupyter-widgets/base",
      "_view_module_version": "1.2.0",
      "_view_name": "LayoutView",
      "align_content": null,
      "align_items": null,
      "align_self": null,
      "border": null,
      "bottom": null,
      "display": null,
      "flex": null,
      "flex_flow": null,
      "grid_area": null,
      "grid_auto_columns": null,
      "grid_auto_flow": null,
      "grid_auto_rows": null,
      "grid_column": null,
      "grid_gap": null,
      "grid_row": null,
      "grid_template_areas": null,
      "grid_template_columns": null,
      "grid_template_rows": null,
      "height": null,
      "justify_content": null,
      "justify_items": null,
      "left": null,
      "margin": null,
      "max_height": null,
      "max_width": null,
      "min_height": null,
      "min_width": null,
      "object_fit": null,
      "object_position": null,
      "order": null,
      "overflow": null,
      "overflow_x": null,
      "overflow_y": null,
      "padding": null,
      "right": null,
      "top": null,
      "visibility": null,
      "width": null
     }
    },
    "dc76eec17cdd4345ae1992f57131f002": {
     "model_module": "@jupyter-widgets/controls",
     "model_module_version": "1.5.0",
     "model_name": "FloatProgressModel",
     "state": {
      "_dom_classes": [],
      "_model_module": "@jupyter-widgets/controls",
      "_model_module_version": "1.5.0",
      "_model_name": "FloatProgressModel",
      "_view_count": null,
      "_view_module": "@jupyter-widgets/controls",
      "_view_module_version": "1.5.0",
      "_view_name": "ProgressView",
      "bar_style": "success",
      "description": "",
      "description_tooltip": null,
      "layout": "IPY_MODEL_b8a62a72256144f587513c3d331caee9",
      "max": 3466,
      "min": 0,
      "orientation": "horizontal",
      "style": "IPY_MODEL_799d069be3204092a9be1d3ccef0b957",
      "value": 3466
     }
    },
    "e10ad8d9a0c24273928da09b59343dc3": {
     "model_module": "@jupyter-widgets/base",
     "model_module_version": "1.2.0",
     "model_name": "LayoutModel",
     "state": {
      "_model_module": "@jupyter-widgets/base",
      "_model_module_version": "1.2.0",
      "_model_name": "LayoutModel",
      "_view_count": null,
      "_view_module": "@jupyter-widgets/base",
      "_view_module_version": "1.2.0",
      "_view_name": "LayoutView",
      "align_content": null,
      "align_items": null,
      "align_self": null,
      "border": null,
      "bottom": null,
      "display": null,
      "flex": null,
      "flex_flow": null,
      "grid_area": null,
      "grid_auto_columns": null,
      "grid_auto_flow": null,
      "grid_auto_rows": null,
      "grid_column": null,
      "grid_gap": null,
      "grid_row": null,
      "grid_template_areas": null,
      "grid_template_columns": null,
      "grid_template_rows": null,
      "height": null,
      "justify_content": null,
      "justify_items": null,
      "left": null,
      "margin": null,
      "max_height": null,
      "max_width": null,
      "min_height": null,
      "min_width": null,
      "object_fit": null,
      "object_position": null,
      "order": null,
      "overflow": null,
      "overflow_x": null,
      "overflow_y": null,
      "padding": null,
      "right": null,
      "top": null,
      "visibility": null,
      "width": null
     }
    },
    "e40aee4e888b4485b923c062b969c56f": {
     "model_module": "@jupyter-widgets/base",
     "model_module_version": "1.2.0",
     "model_name": "LayoutModel",
     "state": {
      "_model_module": "@jupyter-widgets/base",
      "_model_module_version": "1.2.0",
      "_model_name": "LayoutModel",
      "_view_count": null,
      "_view_module": "@jupyter-widgets/base",
      "_view_module_version": "1.2.0",
      "_view_name": "LayoutView",
      "align_content": null,
      "align_items": null,
      "align_self": null,
      "border": null,
      "bottom": null,
      "display": null,
      "flex": null,
      "flex_flow": null,
      "grid_area": null,
      "grid_auto_columns": null,
      "grid_auto_flow": null,
      "grid_auto_rows": null,
      "grid_column": null,
      "grid_gap": null,
      "grid_row": null,
      "grid_template_areas": null,
      "grid_template_columns": null,
      "grid_template_rows": null,
      "height": null,
      "justify_content": null,
      "justify_items": null,
      "left": null,
      "margin": null,
      "max_height": null,
      "max_width": null,
      "min_height": null,
      "min_width": null,
      "object_fit": null,
      "object_position": null,
      "order": null,
      "overflow": null,
      "overflow_x": null,
      "overflow_y": null,
      "padding": null,
      "right": null,
      "top": null,
      "visibility": null,
      "width": null
     }
    },
    "e4242c2babaa4633aa97b8954043073e": {
     "model_module": "@jupyter-widgets/controls",
     "model_module_version": "1.5.0",
     "model_name": "DescriptionStyleModel",
     "state": {
      "_model_module": "@jupyter-widgets/controls",
      "_model_module_version": "1.5.0",
      "_model_name": "DescriptionStyleModel",
      "_view_count": null,
      "_view_module": "@jupyter-widgets/base",
      "_view_module_version": "1.2.0",
      "_view_name": "StyleView",
      "description_width": ""
     }
    },
    "e49bd3eb6132490693a1d02ae997a951": {
     "model_module": "@jupyter-widgets/controls",
     "model_module_version": "1.5.0",
     "model_name": "DescriptionStyleModel",
     "state": {
      "_model_module": "@jupyter-widgets/controls",
      "_model_module_version": "1.5.0",
      "_model_name": "DescriptionStyleModel",
      "_view_count": null,
      "_view_module": "@jupyter-widgets/base",
      "_view_module_version": "1.2.0",
      "_view_name": "StyleView",
      "description_width": ""
     }
    },
    "e4c6555a54c648f79385b9fe39cdf598": {
     "model_module": "@jupyter-widgets/controls",
     "model_module_version": "1.5.0",
     "model_name": "DescriptionStyleModel",
     "state": {
      "_model_module": "@jupyter-widgets/controls",
      "_model_module_version": "1.5.0",
      "_model_name": "DescriptionStyleModel",
      "_view_count": null,
      "_view_module": "@jupyter-widgets/base",
      "_view_module_version": "1.2.0",
      "_view_name": "StyleView",
      "description_width": ""
     }
    },
    "eafb0f463ad847508f05c1b821566b7d": {
     "model_module": "@jupyter-widgets/base",
     "model_module_version": "1.2.0",
     "model_name": "LayoutModel",
     "state": {
      "_model_module": "@jupyter-widgets/base",
      "_model_module_version": "1.2.0",
      "_model_name": "LayoutModel",
      "_view_count": null,
      "_view_module": "@jupyter-widgets/base",
      "_view_module_version": "1.2.0",
      "_view_name": "LayoutView",
      "align_content": null,
      "align_items": null,
      "align_self": null,
      "border": null,
      "bottom": null,
      "display": null,
      "flex": null,
      "flex_flow": null,
      "grid_area": null,
      "grid_auto_columns": null,
      "grid_auto_flow": null,
      "grid_auto_rows": null,
      "grid_column": null,
      "grid_gap": null,
      "grid_row": null,
      "grid_template_areas": null,
      "grid_template_columns": null,
      "grid_template_rows": null,
      "height": null,
      "justify_content": null,
      "justify_items": null,
      "left": null,
      "margin": null,
      "max_height": null,
      "max_width": null,
      "min_height": null,
      "min_width": null,
      "object_fit": null,
      "object_position": null,
      "order": null,
      "overflow": null,
      "overflow_x": null,
      "overflow_y": null,
      "padding": null,
      "right": null,
      "top": null,
      "visibility": null,
      "width": null
     }
    },
    "ecdb0ebcdb404af69753f1de8cc8fd73": {
     "model_module": "@jupyter-widgets/controls",
     "model_module_version": "1.5.0",
     "model_name": "DescriptionStyleModel",
     "state": {
      "_model_module": "@jupyter-widgets/controls",
      "_model_module_version": "1.5.0",
      "_model_name": "DescriptionStyleModel",
      "_view_count": null,
      "_view_module": "@jupyter-widgets/base",
      "_view_module_version": "1.2.0",
      "_view_name": "StyleView",
      "description_width": ""
     }
    },
    "ef697734e2a5492c831a7d9ff1511bb9": {
     "model_module": "@jupyter-widgets/base",
     "model_module_version": "1.2.0",
     "model_name": "LayoutModel",
     "state": {
      "_model_module": "@jupyter-widgets/base",
      "_model_module_version": "1.2.0",
      "_model_name": "LayoutModel",
      "_view_count": null,
      "_view_module": "@jupyter-widgets/base",
      "_view_module_version": "1.2.0",
      "_view_name": "LayoutView",
      "align_content": null,
      "align_items": null,
      "align_self": null,
      "border": null,
      "bottom": null,
      "display": null,
      "flex": null,
      "flex_flow": null,
      "grid_area": null,
      "grid_auto_columns": null,
      "grid_auto_flow": null,
      "grid_auto_rows": null,
      "grid_column": null,
      "grid_gap": null,
      "grid_row": null,
      "grid_template_areas": null,
      "grid_template_columns": null,
      "grid_template_rows": null,
      "height": null,
      "justify_content": null,
      "justify_items": null,
      "left": null,
      "margin": null,
      "max_height": null,
      "max_width": null,
      "min_height": null,
      "min_width": null,
      "object_fit": null,
      "object_position": null,
      "order": null,
      "overflow": null,
      "overflow_x": null,
      "overflow_y": null,
      "padding": null,
      "right": null,
      "top": null,
      "visibility": null,
      "width": null
     }
    },
    "f52712d987e843f88ac75cd5f818cde4": {
     "model_module": "@jupyter-widgets/base",
     "model_module_version": "1.2.0",
     "model_name": "LayoutModel",
     "state": {
      "_model_module": "@jupyter-widgets/base",
      "_model_module_version": "1.2.0",
      "_model_name": "LayoutModel",
      "_view_count": null,
      "_view_module": "@jupyter-widgets/base",
      "_view_module_version": "1.2.0",
      "_view_name": "LayoutView",
      "align_content": null,
      "align_items": null,
      "align_self": null,
      "border": null,
      "bottom": null,
      "display": null,
      "flex": null,
      "flex_flow": null,
      "grid_area": null,
      "grid_auto_columns": null,
      "grid_auto_flow": null,
      "grid_auto_rows": null,
      "grid_column": null,
      "grid_gap": null,
      "grid_row": null,
      "grid_template_areas": null,
      "grid_template_columns": null,
      "grid_template_rows": null,
      "height": null,
      "justify_content": null,
      "justify_items": null,
      "left": null,
      "margin": null,
      "max_height": null,
      "max_width": null,
      "min_height": null,
      "min_width": null,
      "object_fit": null,
      "object_position": null,
      "order": null,
      "overflow": null,
      "overflow_x": null,
      "overflow_y": null,
      "padding": null,
      "right": null,
      "top": null,
      "visibility": null,
      "width": null
     }
    },
    "f5c8f93ed5d64dbebcc69f4907afb1b6": {
     "model_module": "@jupyter-widgets/controls",
     "model_module_version": "1.5.0",
     "model_name": "HTMLModel",
     "state": {
      "_dom_classes": [],
      "_model_module": "@jupyter-widgets/controls",
      "_model_module_version": "1.5.0",
      "_model_name": "HTMLModel",
      "_view_count": null,
      "_view_module": "@jupyter-widgets/controls",
      "_view_module_version": "1.5.0",
      "_view_name": "HTMLView",
      "description": "",
      "description_tooltip": null,
      "layout": "IPY_MODEL_ca2095800a62426b87956e2c3f6e6327",
      "placeholder": "​",
      "style": "IPY_MODEL_c71e0779641443ca896e52ebc7d8af5c",
      "value": " 3466/3466 [00:00&lt;00:00, 3533.31it/s]"
     }
    },
    "f668008b03454274bf79fdd55f36f547": {
     "model_module": "@jupyter-widgets/controls",
     "model_module_version": "1.5.0",
     "model_name": "FloatProgressModel",
     "state": {
      "_dom_classes": [],
      "_model_module": "@jupyter-widgets/controls",
      "_model_module_version": "1.5.0",
      "_model_name": "FloatProgressModel",
      "_view_count": null,
      "_view_module": "@jupyter-widgets/controls",
      "_view_module_version": "1.5.0",
      "_view_name": "ProgressView",
      "bar_style": "success",
      "description": "",
      "description_tooltip": null,
      "layout": "IPY_MODEL_69bb96e7c2fa43d3a0155432bec728ff",
      "max": 30,
      "min": 0,
      "orientation": "horizontal",
      "style": "IPY_MODEL_0bb1a4278dd342deb10bbebdbf5cf6c6",
      "value": 30
     }
    },
    "f82a781ecddc42a18a5794bb323eb5a4": {
     "model_module": "@jupyter-widgets/controls",
     "model_module_version": "1.5.0",
     "model_name": "DescriptionStyleModel",
     "state": {
      "_model_module": "@jupyter-widgets/controls",
      "_model_module_version": "1.5.0",
      "_model_name": "DescriptionStyleModel",
      "_view_count": null,
      "_view_module": "@jupyter-widgets/base",
      "_view_module_version": "1.2.0",
      "_view_name": "StyleView",
      "description_width": ""
     }
    },
    "f8c50cfecdab427aa7990ef2c7921233": {
     "model_module": "@jupyter-widgets/base",
     "model_module_version": "1.2.0",
     "model_name": "LayoutModel",
     "state": {
      "_model_module": "@jupyter-widgets/base",
      "_model_module_version": "1.2.0",
      "_model_name": "LayoutModel",
      "_view_count": null,
      "_view_module": "@jupyter-widgets/base",
      "_view_module_version": "1.2.0",
      "_view_name": "LayoutView",
      "align_content": null,
      "align_items": null,
      "align_self": null,
      "border": null,
      "bottom": null,
      "display": null,
      "flex": null,
      "flex_flow": null,
      "grid_area": null,
      "grid_auto_columns": null,
      "grid_auto_flow": null,
      "grid_auto_rows": null,
      "grid_column": null,
      "grid_gap": null,
      "grid_row": null,
      "grid_template_areas": null,
      "grid_template_columns": null,
      "grid_template_rows": null,
      "height": null,
      "justify_content": null,
      "justify_items": null,
      "left": null,
      "margin": null,
      "max_height": null,
      "max_width": null,
      "min_height": null,
      "min_width": null,
      "object_fit": null,
      "object_position": null,
      "order": null,
      "overflow": null,
      "overflow_x": null,
      "overflow_y": null,
      "padding": null,
      "right": null,
      "top": null,
      "visibility": null,
      "width": null
     }
    },
    "fc0f3894bb7a4f5a9b95d60853c3cc0d": {
     "model_module": "@jupyter-widgets/base",
     "model_module_version": "1.2.0",
     "model_name": "LayoutModel",
     "state": {
      "_model_module": "@jupyter-widgets/base",
      "_model_module_version": "1.2.0",
      "_model_name": "LayoutModel",
      "_view_count": null,
      "_view_module": "@jupyter-widgets/base",
      "_view_module_version": "1.2.0",
      "_view_name": "LayoutView",
      "align_content": null,
      "align_items": null,
      "align_self": null,
      "border": null,
      "bottom": null,
      "display": null,
      "flex": null,
      "flex_flow": null,
      "grid_area": null,
      "grid_auto_columns": null,
      "grid_auto_flow": null,
      "grid_auto_rows": null,
      "grid_column": null,
      "grid_gap": null,
      "grid_row": null,
      "grid_template_areas": null,
      "grid_template_columns": null,
      "grid_template_rows": null,
      "height": null,
      "justify_content": null,
      "justify_items": null,
      "left": null,
      "margin": null,
      "max_height": null,
      "max_width": null,
      "min_height": null,
      "min_width": null,
      "object_fit": null,
      "object_position": null,
      "order": null,
      "overflow": null,
      "overflow_x": null,
      "overflow_y": null,
      "padding": null,
      "right": null,
      "top": null,
      "visibility": null,
      "width": null
     }
    },
    "fd4e5bfa0f8a47f8971f23fe1e84117e": {
     "model_module": "@jupyter-widgets/base",
     "model_module_version": "1.2.0",
     "model_name": "LayoutModel",
     "state": {
      "_model_module": "@jupyter-widgets/base",
      "_model_module_version": "1.2.0",
      "_model_name": "LayoutModel",
      "_view_count": null,
      "_view_module": "@jupyter-widgets/base",
      "_view_module_version": "1.2.0",
      "_view_name": "LayoutView",
      "align_content": null,
      "align_items": null,
      "align_self": null,
      "border": null,
      "bottom": null,
      "display": null,
      "flex": null,
      "flex_flow": null,
      "grid_area": null,
      "grid_auto_columns": null,
      "grid_auto_flow": null,
      "grid_auto_rows": null,
      "grid_column": null,
      "grid_gap": null,
      "grid_row": null,
      "grid_template_areas": null,
      "grid_template_columns": null,
      "grid_template_rows": null,
      "height": null,
      "justify_content": null,
      "justify_items": null,
      "left": null,
      "margin": null,
      "max_height": null,
      "max_width": null,
      "min_height": null,
      "min_width": null,
      "object_fit": null,
      "object_position": null,
      "order": null,
      "overflow": null,
      "overflow_x": null,
      "overflow_y": null,
      "padding": null,
      "right": null,
      "top": null,
      "visibility": null,
      "width": null
     }
    }
   }
  }
 },
 "nbformat": 4,
 "nbformat_minor": 1
}